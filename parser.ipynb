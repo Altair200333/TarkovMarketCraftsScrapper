{
 "cells": [
  {
   "cell_type": "code",
   "execution_count": 76,
   "outputs": [
    {
     "name": "stdout",
     "output_type": "stream",
     "text": [
      "The autoreload extension is already loaded. To reload it, use:\n",
      "  %reload_ext autoreload\n"
     ]
    }
   ],
   "source": [
    "%load_ext autoreload\n",
    "%autoreload 2"
   ],
   "metadata": {
    "collapsed": false,
    "pycharm": {
     "name": "#%%\n"
    }
   }
  },
  {
   "cell_type": "code",
   "execution_count": 77,
   "outputs": [],
   "source": [
    "\n",
    "from selenium import webdriver\n",
    "\n",
    "options = webdriver.ChromeOptions()\n",
    "from utils import *"
   ],
   "metadata": {
    "collapsed": false,
    "pycharm": {
     "name": "#%%\n"
    }
   }
  },
  {
   "cell_type": "code",
   "execution_count": 78,
   "outputs": [],
   "source": [
    "import numpy as np\n",
    "import requests\n",
    "from bs4 import BeautifulSoup"
   ],
   "metadata": {
    "collapsed": false,
    "pycharm": {
     "name": "#%%\n"
    }
   }
  },
  {
   "cell_type": "code",
   "execution_count": 79,
   "outputs": [
    {
     "name": "stderr",
     "output_type": "stream",
     "text": [
      "C:\\Users\\Neo\\AppData\\Local\\Temp/ipykernel_23076/2261419261.py:5: DeprecationWarning: executable_path has been deprecated, please pass in a Service object\n",
      "  driver = webdriver.Chrome(\"C:\\Projects\\chromedriver.exe\", chrome_options=options)\n",
      "C:\\Users\\Neo\\AppData\\Local\\Temp/ipykernel_23076/2261419261.py:5: DeprecationWarning: use options instead of chrome_options\n",
      "  driver = webdriver.Chrome(\"C:\\Projects\\chromedriver.exe\", chrome_options=options)\n"
     ]
    }
   ],
   "source": [
    "options.add_argument('--ignore-certificate-errors')\n",
    "options.add_argument('--incognito')\n",
    "#options.add_argument('--headless')\n",
    "\n",
    "driver = webdriver.Chrome(\"C:\\Projects\\chromedriver.exe\", chrome_options=options)"
   ],
   "metadata": {
    "collapsed": false,
    "pycharm": {
     "name": "#%%\n"
    }
   }
  },
  {
   "cell_type": "code",
   "execution_count": 80,
   "outputs": [],
   "source": [
    "get_full_page(driver, \"Санузел\")"
   ],
   "metadata": {
    "collapsed": false,
    "pycharm": {
     "name": "#%%\n"
    }
   }
  },
  {
   "cell_type": "code",
   "execution_count": 81,
   "outputs": [],
   "source": [
    "#URL = \"https://tarkov-market.com/ru/hideout\"\n",
    "#page = requests.get(URL)\n",
    "\n",
    "soup = BeautifulSoup(driver.page_source, \"html.parser\")"
   ],
   "metadata": {
    "collapsed": false,
    "pycharm": {
     "name": "#%%\n"
    }
   }
  },
  {
   "cell_type": "code",
   "execution_count": 82,
   "outputs": [
    {
     "data": {
      "text/plain": "33"
     },
     "execution_count": 82,
     "metadata": {},
     "output_type": "execute_result"
    }
   ],
   "source": [
    "recipes = soup.find_all(\"div\", {\"class\": \"row recipe\"})\n",
    "len(recipes)"
   ],
   "metadata": {
    "collapsed": false,
    "pycharm": {
     "name": "#%%\n"
    }
   }
  },
  {
   "cell_type": "code",
   "execution_count": 82,
   "outputs": [],
   "source": [],
   "metadata": {
    "collapsed": false,
    "pycharm": {
     "name": "#%%\n"
    }
   }
  },
  {
   "cell_type": "code",
   "execution_count": 94,
   "outputs": [
    {
     "name": "stdout",
     "output_type": "stream",
     "text": [
      "https://tarkov-market.com/ru/item/Air_filter_for_gas_mask 2\n",
      "(12999.0, 1733.0)\n",
      "https://tarkov-market.com/ru/item/Water_filter 2\n",
      "(53000.0, 4727.0)\n",
      "https://tarkov-market.com/ru/item/A_set_of_tools 1\n",
      "(29669.0, 2820.0)\n",
      "https://tarkov-market.com/ru/item/metal_spare_parts 1\n",
      "(9800.0, 1427.0)\n",
      "2ч 36м 2.6\n",
      "https://tarkov-market.com/ru/item/fp-100_filter_absorber 1\n",
      "(159950.0, 17171.0)\n"
     ]
    }
   ],
   "source": [
    "craft = recipes[16].find_all(\"div\", recursive=False)[1]\n",
    "items = craft.find_all(\"div\", recursive=False)\n",
    "\n",
    "for item in items:\n",
    "    if item.has_attr(\"class\") and \"process\" in item[\"class\"]:\n",
    "        craft_time = item.find(\"div\", {\"class\" : \"no-wrap\"}).text\n",
    "        minutes = minutes_regex.findall(craft_time)\n",
    "        hours = hours_regex.findall(craft_time)\n",
    "\n",
    "        hours_time = (float(minutes[0])/60.0 if len(minutes) > 0 else 0) + (float(hours[0]) if len(hours) > 0 else 0)\n",
    "\n",
    "        print(craft_time, hours_time)\n",
    "    else:\n",
    "        link = item.find_all(\"a\", {\"class\": \"item-img\"})[0][\"href\"]\n",
    "        link = \"https://tarkov-market.com\" + link\n",
    "        item_divs = item.find_all(\"div\", recursive=False)\n",
    "        count = count_regex.findall(item_divs[2].text)[0]\n",
    "        print(link, count)\n",
    "        print(item_info(link))"
   ],
   "metadata": {
    "collapsed": false,
    "pycharm": {
     "name": "#%%\n"
    }
   }
  },
  {
   "cell_type": "code",
   "execution_count": 84,
   "outputs": [],
   "source": [
    "URL = \"https://tarkov-market.com/ru/item/Pilgrim_tourist_backpack\"\n",
    "page = requests.get(URL)\n",
    "\n",
    "page_soup = BeautifulSoup(page.text, \"html.parser\")"
   ],
   "metadata": {
    "collapsed": false,
    "pycharm": {
     "name": "#%%\n"
    }
   }
  },
  {
   "cell_type": "code",
   "execution_count": 85,
   "outputs": [
    {
     "data": {
      "text/plain": "(285000.0, 31722.0)"
     },
     "execution_count": 85,
     "metadata": {},
     "output_type": "execute_result"
    }
   ],
   "source": [
    "item_info(\"https://tarkov-market.com/ru/item/fierce_hatchling_moonshine\")"
   ],
   "metadata": {
    "collapsed": false,
    "pycharm": {
     "name": "#%%\n"
    }
   }
  },
  {
   "cell_type": "code",
   "execution_count": 86,
   "outputs": [
    {
     "data": {
      "text/plain": "'27 010₽ '"
     },
     "execution_count": 86,
     "metadata": {},
     "output_type": "execute_result"
    }
   ],
   "source": [
    "market_price = page_soup.find_all(text=re.compile('Продать торговцу'))\n",
    "market_price[0].parent.findNext(\"div\").find(\"div\", {\"class\", \"bold alt\"}).text"
   ],
   "metadata": {
    "collapsed": false,
    "pycharm": {
     "name": "#%%\n"
    }
   }
  },
  {
   "cell_type": "code",
   "execution_count": 87,
   "outputs": [
    {
     "data": {
      "text/plain": "(285000.0, 31722.0)"
     },
     "execution_count": 87,
     "metadata": {},
     "output_type": "execute_result"
    }
   ],
   "source": [
    "item_info(\"https://tarkov-market.com/ru/item/fierce_hatchling_moonshine\")"
   ],
   "metadata": {
    "collapsed": false,
    "pycharm": {
     "name": "#%%\n"
    }
   }
  },
  {
   "cell_type": "code",
   "execution_count": 102,
   "outputs": [],
   "source": [
    "rec = get_recipe(recipes[16])"
   ],
   "metadata": {
    "collapsed": false,
    "pycharm": {
     "name": "#%%\n"
    }
   }
  },
  {
   "cell_type": "code",
   "execution_count": 100,
   "outputs": [
    {
     "name": "stdout",
     "output_type": "stream",
     "text": [
      "16500.0 2352.0 1 https://tarkov-market.com/ru/item/WD-40_400ml\n",
      "19998.0 3059.0 1 https://tarkov-market.com/ru/item/Metal_cutting_scissors\n"
     ]
    }
   ],
   "source": [
    "for i in rec.items:\n",
    "    print(i.price, i.fee, i.count, i.link)"
   ],
   "metadata": {
    "collapsed": false,
    "pycharm": {
     "name": "#%%\n"
    }
   }
  },
  {
   "cell_type": "code",
   "execution_count": 98,
   "outputs": [
    {
     "name": "stdout",
     "output_type": "stream",
     "text": [
      "159950.0\n"
     ]
    }
   ],
   "source": [
    "print(rec.result.price)"
   ],
   "metadata": {
    "collapsed": false,
    "pycharm": {
     "name": "#%%\n"
    }
   }
  },
  {
   "cell_type": "code",
   "execution_count": 103,
   "outputs": [],
   "source": [
    "#collect info\n",
    "crafts = []\n",
    "for i in range(len(recipes)):\n",
    "    rec = get_recipe(recipes[i])\n",
    "    crafts.append(rec)"
   ],
   "metadata": {
    "collapsed": false,
    "pycharm": {
     "name": "#%%\n"
    }
   }
  },
  {
   "cell_type": "code",
   "execution_count": 104,
   "outputs": [
    {
     "data": {
      "text/plain": "33"
     },
     "execution_count": 104,
     "metadata": {},
     "output_type": "execute_result"
    }
   ],
   "source": [
    "len(crafts)"
   ],
   "metadata": {
    "collapsed": false,
    "pycharm": {
     "name": "#%%\n"
    }
   }
  },
  {
   "cell_type": "code",
   "execution_count": 95,
   "outputs": [],
   "source": [
    "\n",
    "#get_recipe(recipes[20])"
   ],
   "metadata": {
    "collapsed": false,
    "pycharm": {
     "name": "#%%\n"
    }
   }
  },
  {
   "cell_type": "code",
   "execution_count": null,
   "outputs": [],
   "source": [],
   "metadata": {
    "collapsed": false,
    "pycharm": {
     "name": "#%%\n"
    }
   }
  }
 ],
 "metadata": {
  "kernelspec": {
   "display_name": "Python 3",
   "language": "python",
   "name": "python3"
  },
  "language_info": {
   "codemirror_mode": {
    "name": "ipython",
    "version": 2
   },
   "file_extension": ".py",
   "mimetype": "text/x-python",
   "name": "python",
   "nbconvert_exporter": "python",
   "pygments_lexer": "ipython2",
   "version": "2.7.6"
  }
 },
 "nbformat": 4,
 "nbformat_minor": 0
}