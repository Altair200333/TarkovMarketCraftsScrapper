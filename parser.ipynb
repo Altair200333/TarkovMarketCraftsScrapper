{
 "cells": [
  {
   "cell_type": "code",
   "execution_count": 2,
   "outputs": [
    {
     "name": "stdout",
     "output_type": "stream",
     "text": [
      "The autoreload extension is already loaded. To reload it, use:\n",
      "  %reload_ext autoreload\n"
     ]
    }
   ],
   "source": [
    "from analizer_bind import *\n",
    "\n",
    "%load_ext autoreload\n",
    "%autoreload 2"
   ],
   "metadata": {
    "collapsed": false,
    "pycharm": {
     "name": "#%%\n"
    }
   }
  },
  {
   "cell_type": "code",
   "execution_count": 7,
   "outputs": [
    {
     "name": "stdout",
     "output_type": "stream",
     "text": [
      "recipes loaded:  33\n"
     ]
    },
    {
     "data": {
      "text/plain": "                                                 Name    income       income/h\n0                                     Schaman_shampoo    9456.0   16210.285714\n1                                           Ox_bleach    8553.0   13504.736842\n2                            polyamide_fabric_cordura    3784.0    4730.000000\n3                                     aseptic_bandage    1692.0    3274.838710\n4                                  aramid_fiber_cloth     968.0    1760.000000\n5                                       Scav_Backpack   -2179.0   -2377.090909\n7                                  lucky_scav_junkbox  -51463.0   -5984.069767\n8                                        Water_filter  -60862.0   -6158.043845\n6                                        grenade_case -123822.0   -7429.320000\n9                                         WD-40_100ml  -27192.0  -10876.800000\n10                                    corrugated_hose  -41144.0  -12281.791045\n11                             fp-100_filter_absorber  -33510.0  -12888.461538\n12                                      magazine_case  -67296.0  -13827.945205\n13                                  kektape_duct_tape  -23666.0  -17749.500000\n14                           Pilgrim_tourist_backpack  -51767.0  -19055.337423\n15                                BlackRock_chest_rig  -20712.0  -20712.000000\n16  60-round_6l31_5.45x39_magazine_for_ak-74_and_c...  -34203.0  -24725.060241\n17                                  LZSh_light_helmet  -34844.0  -25188.433735\n18                               6SH118_raid_backpack -135116.0  -25654.936709\n19                                           Paracord -113397.0  -26371.395349\n20         Velocity_Systems_Multi-Purpose_Patrol_Vest  -60383.0  -27869.076923\n21                                Immobilizing_splint  -35553.0  -40248.679245\n24                               splav_tarzan_m22_rig  -33173.0  -43269.130435\n23                                      ripstop_cloth  -26808.0  -44680.000000\n22                                       Toilet_paper  -20480.0  -47261.538462\n25                           polyamide_fabric_cordura  -28216.0  -48370.285714\n26                                         Clin_wiper  -38049.0  -57073.500000\n28                                       fleece_cloth  -41494.0  -57898.604651\n27                                    PACA_Soft_Armor  -70633.0  -58054.520548\n29                                       army_bandage  -17404.0  -65265.000000\n30                                Module-3M_bodyarmor  -63119.0  -70132.222222\n31                            Expeditionary_fuel_tank  -72685.0  -70340.322581\n32                            Air_filter_for_gas_mask   -3831.0 -114930.000000",
      "text/html": "<div>\n<style scoped>\n    .dataframe tbody tr th:only-of-type {\n        vertical-align: middle;\n    }\n\n    .dataframe tbody tr th {\n        vertical-align: top;\n    }\n\n    .dataframe thead th {\n        text-align: right;\n    }\n</style>\n<table border=\"1\" class=\"dataframe\">\n  <thead>\n    <tr style=\"text-align: right;\">\n      <th></th>\n      <th>Name</th>\n      <th>income</th>\n      <th>income/h</th>\n    </tr>\n  </thead>\n  <tbody>\n    <tr>\n      <th>0</th>\n      <td>Schaman_shampoo</td>\n      <td>9456.0</td>\n      <td>16210.285714</td>\n    </tr>\n    <tr>\n      <th>1</th>\n      <td>Ox_bleach</td>\n      <td>8553.0</td>\n      <td>13504.736842</td>\n    </tr>\n    <tr>\n      <th>2</th>\n      <td>polyamide_fabric_cordura</td>\n      <td>3784.0</td>\n      <td>4730.000000</td>\n    </tr>\n    <tr>\n      <th>3</th>\n      <td>aseptic_bandage</td>\n      <td>1692.0</td>\n      <td>3274.838710</td>\n    </tr>\n    <tr>\n      <th>4</th>\n      <td>aramid_fiber_cloth</td>\n      <td>968.0</td>\n      <td>1760.000000</td>\n    </tr>\n    <tr>\n      <th>5</th>\n      <td>Scav_Backpack</td>\n      <td>-2179.0</td>\n      <td>-2377.090909</td>\n    </tr>\n    <tr>\n      <th>7</th>\n      <td>lucky_scav_junkbox</td>\n      <td>-51463.0</td>\n      <td>-5984.069767</td>\n    </tr>\n    <tr>\n      <th>8</th>\n      <td>Water_filter</td>\n      <td>-60862.0</td>\n      <td>-6158.043845</td>\n    </tr>\n    <tr>\n      <th>6</th>\n      <td>grenade_case</td>\n      <td>-123822.0</td>\n      <td>-7429.320000</td>\n    </tr>\n    <tr>\n      <th>9</th>\n      <td>WD-40_100ml</td>\n      <td>-27192.0</td>\n      <td>-10876.800000</td>\n    </tr>\n    <tr>\n      <th>10</th>\n      <td>corrugated_hose</td>\n      <td>-41144.0</td>\n      <td>-12281.791045</td>\n    </tr>\n    <tr>\n      <th>11</th>\n      <td>fp-100_filter_absorber</td>\n      <td>-33510.0</td>\n      <td>-12888.461538</td>\n    </tr>\n    <tr>\n      <th>12</th>\n      <td>magazine_case</td>\n      <td>-67296.0</td>\n      <td>-13827.945205</td>\n    </tr>\n    <tr>\n      <th>13</th>\n      <td>kektape_duct_tape</td>\n      <td>-23666.0</td>\n      <td>-17749.500000</td>\n    </tr>\n    <tr>\n      <th>14</th>\n      <td>Pilgrim_tourist_backpack</td>\n      <td>-51767.0</td>\n      <td>-19055.337423</td>\n    </tr>\n    <tr>\n      <th>15</th>\n      <td>BlackRock_chest_rig</td>\n      <td>-20712.0</td>\n      <td>-20712.000000</td>\n    </tr>\n    <tr>\n      <th>16</th>\n      <td>60-round_6l31_5.45x39_magazine_for_ak-74_and_c...</td>\n      <td>-34203.0</td>\n      <td>-24725.060241</td>\n    </tr>\n    <tr>\n      <th>17</th>\n      <td>LZSh_light_helmet</td>\n      <td>-34844.0</td>\n      <td>-25188.433735</td>\n    </tr>\n    <tr>\n      <th>18</th>\n      <td>6SH118_raid_backpack</td>\n      <td>-135116.0</td>\n      <td>-25654.936709</td>\n    </tr>\n    <tr>\n      <th>19</th>\n      <td>Paracord</td>\n      <td>-113397.0</td>\n      <td>-26371.395349</td>\n    </tr>\n    <tr>\n      <th>20</th>\n      <td>Velocity_Systems_Multi-Purpose_Patrol_Vest</td>\n      <td>-60383.0</td>\n      <td>-27869.076923</td>\n    </tr>\n    <tr>\n      <th>21</th>\n      <td>Immobilizing_splint</td>\n      <td>-35553.0</td>\n      <td>-40248.679245</td>\n    </tr>\n    <tr>\n      <th>24</th>\n      <td>splav_tarzan_m22_rig</td>\n      <td>-33173.0</td>\n      <td>-43269.130435</td>\n    </tr>\n    <tr>\n      <th>23</th>\n      <td>ripstop_cloth</td>\n      <td>-26808.0</td>\n      <td>-44680.000000</td>\n    </tr>\n    <tr>\n      <th>22</th>\n      <td>Toilet_paper</td>\n      <td>-20480.0</td>\n      <td>-47261.538462</td>\n    </tr>\n    <tr>\n      <th>25</th>\n      <td>polyamide_fabric_cordura</td>\n      <td>-28216.0</td>\n      <td>-48370.285714</td>\n    </tr>\n    <tr>\n      <th>26</th>\n      <td>Clin_wiper</td>\n      <td>-38049.0</td>\n      <td>-57073.500000</td>\n    </tr>\n    <tr>\n      <th>28</th>\n      <td>fleece_cloth</td>\n      <td>-41494.0</td>\n      <td>-57898.604651</td>\n    </tr>\n    <tr>\n      <th>27</th>\n      <td>PACA_Soft_Armor</td>\n      <td>-70633.0</td>\n      <td>-58054.520548</td>\n    </tr>\n    <tr>\n      <th>29</th>\n      <td>army_bandage</td>\n      <td>-17404.0</td>\n      <td>-65265.000000</td>\n    </tr>\n    <tr>\n      <th>30</th>\n      <td>Module-3M_bodyarmor</td>\n      <td>-63119.0</td>\n      <td>-70132.222222</td>\n    </tr>\n    <tr>\n      <th>31</th>\n      <td>Expeditionary_fuel_tank</td>\n      <td>-72685.0</td>\n      <td>-70340.322581</td>\n    </tr>\n    <tr>\n      <th>32</th>\n      <td>Air_filter_for_gas_mask</td>\n      <td>-3831.0</td>\n      <td>-114930.000000</td>\n    </tr>\n  </tbody>\n</table>\n</div>"
     },
     "execution_count": 7,
     "metadata": {},
     "output_type": "execute_result"
    }
   ],
   "source": [
    "lavatory_df, lavatory_crafts = analize_crafts(\"Санузел\", False)\n",
    "lavatory_df"
   ],
   "metadata": {
    "collapsed": false,
    "pycharm": {
     "name": "#%%\n"
    }
   }
  },
  {
   "cell_type": "code",
   "execution_count": 8,
   "outputs": [
    {
     "name": "stdout",
     "output_type": "stream",
     "text": [
      "recipes loaded:  56\n",
      "Fuel price:  160000.0\n"
     ]
    },
    {
     "data": {
      "text/plain": "                                               Name     income       income/h  \\\n0                              9x18_mm_pm_rg028_gzh   122073.0   71110.485437   \n1                          vog-25_khattabka_grenade    29062.0   17437.200000   \n2                                         Powercord     7792.0   13357.714286   \n3                                        Capacitors    20765.0   10047.580645   \n4                                       NIXXOR_lens    14797.0    5879.602649   \n6                                 Gunpowder_\"Eagle\"     8756.0    5416.082474   \n5                                             Wires    10432.0    5304.406780   \n7                                  Gunpowder_\"Kite\"     6579.0    4435.280899   \n10                                          .366_ap    27013.0    3859.000000   \n8                                       9x19_mm_rip    19428.0    3784.675325   \n9                          greenbat_lithium_battery    13793.0    2758.600000   \n12                                           Magnet     1073.0    1497.209302   \n13                            Printed_circuit_board      488.0     887.272727   \n14                                  12_70_flechette     1213.0     582.240000   \n11                              bulbex_cable_cutter     3530.0     509.134615   \n17                                     7.62x54r_snb   -20200.0   -2016.638935   \n16                                   9x18_mm_pm_pbm    -9574.0   -2465.407725   \n15                     12_70_8.5_mm_magnum_buckshot    -5027.0   -3314.505495   \n18                                     Weapon_parts    -4353.0   -5121.176471   \n19                                    7.62x39_mm_bp   -98822.0   -5929.320000   \n20                                     Gas_analyzer  -106090.0   -6234.476004   \n21                                     Weapon_parts    -8708.0   -6698.461538   \n23                               rgd-5_hand_grenade   -37356.0   -7348.721311   \n22                                5.56x45_mm_m856a1   -93400.0   -7491.978610   \n24                               OFZ_30x160mm_shell   -88709.0   -8188.523077   \n25                          5.45x39_mm_7n39_igolnik  -145612.0   -8557.022527   \n33                                       .45_acp_ap   -69000.0   -9282.511211   \n26                     ak-74m_5.45x39_assault_rifle   -13346.0   -9647.710843   \n27                                    5.45x39_mm_pp   -53400.0   -9679.758308   \n32                                   9x19_mm_ap_6.3   -78700.0   -9941.052632   \n28                            Geiger-Muller_counter   -15583.0  -10274.505495   \n29                      12_70_hp_slug_superformance   -42127.0  -10848.154506   \n30                                     9x39_mm_sp-6  -104532.0  -11341.627486   \n31                                 Gunpowder_\"Hawk\"   -21613.0  -11578.392857   \n34                                 Gunpowder_\"Hawk\"    -7191.0  -12327.428571   \n36                            Printed_circuit_board   -10876.0  -13595.000000   \n37                                  5.56x45_mm_m995  -221841.0  -13879.520334   \n38                                   7.62x51_mm_m61  -240320.0  -14448.096192   \n39                     ak-74n_5.45x39_assault_rifle   -21415.0  -15862.962963   \n40                             Rechargeable_battery   -19691.0  -16184.383562   \n35                        akm_7.62x39_assault_rifle   -23423.0  -16533.882353   \n41                                 12_70_ap-20_slug   -86840.0  -18542.348754   \n43                                  9x39_mm_7n9_spp  -242573.0  -23102.190476   \n44                                     9x19_mm_7n31  -286279.0  -23923.036212   \n45                                     23x75mm_star  -114999.0  -25090.690909   \n46                                5.56x45mm_warmage  -126636.0  -26848.621908   \n47                               zarya_stun_grenade   -39768.0  -30988.051948   \n48  FLIR_RS-32_2.25-9x_35mm_60Hz_thermal_riflescope  -363522.0  -40692.761194   \n42                                      car_battery  -113514.0  -41029.156627   \n49                                    T-Shaped_Plug   -39252.0  -42055.714286   \n50                           Military_circuit_board  -104192.0  -45967.058824   \n51                                   Electric_motor   -61926.0  -46444.500000   \n52                                       Spark_plug  -109132.0  -56447.586207   \n53                                    Broken_GPhone  -107448.0  -64468.800000   \n54                                  9x39_mm_7n12_bp -1158070.0 -125649.547920   \n55                                       Broken_LCD  -105451.0 -287593.636364   \n\n    income/h w fuel  \n0      63491.437818  \n1       9818.152381  \n2       5738.666667  \n3       2428.533026  \n4      -1739.444970  \n6      -2202.965145  \n5      -2314.640839  \n7      -3183.766720  \n10     -3760.047619  \n8      -3834.372294  \n9      -4860.447619  \n12     -6121.838317  \n13     -6731.774892  \n14     -7036.807619  \n11     -7109.913004  \n17     -9635.686554  \n16    -10084.455344  \n15    -10933.553114  \n18    -12740.224090  \n19    -13548.367619  \n20    -13853.523623  \n21    -14317.509158  \n23    -14967.768931  \n22    -15111.026229  \n24    -15807.570696  \n25    -16176.070146  \n33    -16901.558830  \n26    -17266.758462  \n27    -17298.805927  \n32    -17560.100251  \n28    -17893.553114  \n29    -18467.202125  \n30    -18960.675105  \n31    -19197.440476  \n34    -19946.476190  \n36    -21214.047619  \n37    -21498.567953  \n38    -22067.143811  \n39    -23482.010582  \n40    -23803.431181  \n35    -24152.929972  \n41    -26161.396373  \n43    -30721.238095  \n44    -31542.083831  \n45    -32709.738528  \n46    -34467.669527  \n47    -38607.099567  \n48    -48311.808813  \n42    -48648.204246  \n49    -49674.761905  \n50    -53586.106443  \n51    -54063.547619  \n52    -64066.633826  \n53    -72087.847619  \n54   -133268.595539  \n55   -295212.683983  ",
      "text/html": "<div>\n<style scoped>\n    .dataframe tbody tr th:only-of-type {\n        vertical-align: middle;\n    }\n\n    .dataframe tbody tr th {\n        vertical-align: top;\n    }\n\n    .dataframe thead th {\n        text-align: right;\n    }\n</style>\n<table border=\"1\" class=\"dataframe\">\n  <thead>\n    <tr style=\"text-align: right;\">\n      <th></th>\n      <th>Name</th>\n      <th>income</th>\n      <th>income/h</th>\n      <th>income/h w fuel</th>\n    </tr>\n  </thead>\n  <tbody>\n    <tr>\n      <th>0</th>\n      <td>9x18_mm_pm_rg028_gzh</td>\n      <td>122073.0</td>\n      <td>71110.485437</td>\n      <td>63491.437818</td>\n    </tr>\n    <tr>\n      <th>1</th>\n      <td>vog-25_khattabka_grenade</td>\n      <td>29062.0</td>\n      <td>17437.200000</td>\n      <td>9818.152381</td>\n    </tr>\n    <tr>\n      <th>2</th>\n      <td>Powercord</td>\n      <td>7792.0</td>\n      <td>13357.714286</td>\n      <td>5738.666667</td>\n    </tr>\n    <tr>\n      <th>3</th>\n      <td>Capacitors</td>\n      <td>20765.0</td>\n      <td>10047.580645</td>\n      <td>2428.533026</td>\n    </tr>\n    <tr>\n      <th>4</th>\n      <td>NIXXOR_lens</td>\n      <td>14797.0</td>\n      <td>5879.602649</td>\n      <td>-1739.444970</td>\n    </tr>\n    <tr>\n      <th>6</th>\n      <td>Gunpowder_\"Eagle\"</td>\n      <td>8756.0</td>\n      <td>5416.082474</td>\n      <td>-2202.965145</td>\n    </tr>\n    <tr>\n      <th>5</th>\n      <td>Wires</td>\n      <td>10432.0</td>\n      <td>5304.406780</td>\n      <td>-2314.640839</td>\n    </tr>\n    <tr>\n      <th>7</th>\n      <td>Gunpowder_\"Kite\"</td>\n      <td>6579.0</td>\n      <td>4435.280899</td>\n      <td>-3183.766720</td>\n    </tr>\n    <tr>\n      <th>10</th>\n      <td>.366_ap</td>\n      <td>27013.0</td>\n      <td>3859.000000</td>\n      <td>-3760.047619</td>\n    </tr>\n    <tr>\n      <th>8</th>\n      <td>9x19_mm_rip</td>\n      <td>19428.0</td>\n      <td>3784.675325</td>\n      <td>-3834.372294</td>\n    </tr>\n    <tr>\n      <th>9</th>\n      <td>greenbat_lithium_battery</td>\n      <td>13793.0</td>\n      <td>2758.600000</td>\n      <td>-4860.447619</td>\n    </tr>\n    <tr>\n      <th>12</th>\n      <td>Magnet</td>\n      <td>1073.0</td>\n      <td>1497.209302</td>\n      <td>-6121.838317</td>\n    </tr>\n    <tr>\n      <th>13</th>\n      <td>Printed_circuit_board</td>\n      <td>488.0</td>\n      <td>887.272727</td>\n      <td>-6731.774892</td>\n    </tr>\n    <tr>\n      <th>14</th>\n      <td>12_70_flechette</td>\n      <td>1213.0</td>\n      <td>582.240000</td>\n      <td>-7036.807619</td>\n    </tr>\n    <tr>\n      <th>11</th>\n      <td>bulbex_cable_cutter</td>\n      <td>3530.0</td>\n      <td>509.134615</td>\n      <td>-7109.913004</td>\n    </tr>\n    <tr>\n      <th>17</th>\n      <td>7.62x54r_snb</td>\n      <td>-20200.0</td>\n      <td>-2016.638935</td>\n      <td>-9635.686554</td>\n    </tr>\n    <tr>\n      <th>16</th>\n      <td>9x18_mm_pm_pbm</td>\n      <td>-9574.0</td>\n      <td>-2465.407725</td>\n      <td>-10084.455344</td>\n    </tr>\n    <tr>\n      <th>15</th>\n      <td>12_70_8.5_mm_magnum_buckshot</td>\n      <td>-5027.0</td>\n      <td>-3314.505495</td>\n      <td>-10933.553114</td>\n    </tr>\n    <tr>\n      <th>18</th>\n      <td>Weapon_parts</td>\n      <td>-4353.0</td>\n      <td>-5121.176471</td>\n      <td>-12740.224090</td>\n    </tr>\n    <tr>\n      <th>19</th>\n      <td>7.62x39_mm_bp</td>\n      <td>-98822.0</td>\n      <td>-5929.320000</td>\n      <td>-13548.367619</td>\n    </tr>\n    <tr>\n      <th>20</th>\n      <td>Gas_analyzer</td>\n      <td>-106090.0</td>\n      <td>-6234.476004</td>\n      <td>-13853.523623</td>\n    </tr>\n    <tr>\n      <th>21</th>\n      <td>Weapon_parts</td>\n      <td>-8708.0</td>\n      <td>-6698.461538</td>\n      <td>-14317.509158</td>\n    </tr>\n    <tr>\n      <th>23</th>\n      <td>rgd-5_hand_grenade</td>\n      <td>-37356.0</td>\n      <td>-7348.721311</td>\n      <td>-14967.768931</td>\n    </tr>\n    <tr>\n      <th>22</th>\n      <td>5.56x45_mm_m856a1</td>\n      <td>-93400.0</td>\n      <td>-7491.978610</td>\n      <td>-15111.026229</td>\n    </tr>\n    <tr>\n      <th>24</th>\n      <td>OFZ_30x160mm_shell</td>\n      <td>-88709.0</td>\n      <td>-8188.523077</td>\n      <td>-15807.570696</td>\n    </tr>\n    <tr>\n      <th>25</th>\n      <td>5.45x39_mm_7n39_igolnik</td>\n      <td>-145612.0</td>\n      <td>-8557.022527</td>\n      <td>-16176.070146</td>\n    </tr>\n    <tr>\n      <th>33</th>\n      <td>.45_acp_ap</td>\n      <td>-69000.0</td>\n      <td>-9282.511211</td>\n      <td>-16901.558830</td>\n    </tr>\n    <tr>\n      <th>26</th>\n      <td>ak-74m_5.45x39_assault_rifle</td>\n      <td>-13346.0</td>\n      <td>-9647.710843</td>\n      <td>-17266.758462</td>\n    </tr>\n    <tr>\n      <th>27</th>\n      <td>5.45x39_mm_pp</td>\n      <td>-53400.0</td>\n      <td>-9679.758308</td>\n      <td>-17298.805927</td>\n    </tr>\n    <tr>\n      <th>32</th>\n      <td>9x19_mm_ap_6.3</td>\n      <td>-78700.0</td>\n      <td>-9941.052632</td>\n      <td>-17560.100251</td>\n    </tr>\n    <tr>\n      <th>28</th>\n      <td>Geiger-Muller_counter</td>\n      <td>-15583.0</td>\n      <td>-10274.505495</td>\n      <td>-17893.553114</td>\n    </tr>\n    <tr>\n      <th>29</th>\n      <td>12_70_hp_slug_superformance</td>\n      <td>-42127.0</td>\n      <td>-10848.154506</td>\n      <td>-18467.202125</td>\n    </tr>\n    <tr>\n      <th>30</th>\n      <td>9x39_mm_sp-6</td>\n      <td>-104532.0</td>\n      <td>-11341.627486</td>\n      <td>-18960.675105</td>\n    </tr>\n    <tr>\n      <th>31</th>\n      <td>Gunpowder_\"Hawk\"</td>\n      <td>-21613.0</td>\n      <td>-11578.392857</td>\n      <td>-19197.440476</td>\n    </tr>\n    <tr>\n      <th>34</th>\n      <td>Gunpowder_\"Hawk\"</td>\n      <td>-7191.0</td>\n      <td>-12327.428571</td>\n      <td>-19946.476190</td>\n    </tr>\n    <tr>\n      <th>36</th>\n      <td>Printed_circuit_board</td>\n      <td>-10876.0</td>\n      <td>-13595.000000</td>\n      <td>-21214.047619</td>\n    </tr>\n    <tr>\n      <th>37</th>\n      <td>5.56x45_mm_m995</td>\n      <td>-221841.0</td>\n      <td>-13879.520334</td>\n      <td>-21498.567953</td>\n    </tr>\n    <tr>\n      <th>38</th>\n      <td>7.62x51_mm_m61</td>\n      <td>-240320.0</td>\n      <td>-14448.096192</td>\n      <td>-22067.143811</td>\n    </tr>\n    <tr>\n      <th>39</th>\n      <td>ak-74n_5.45x39_assault_rifle</td>\n      <td>-21415.0</td>\n      <td>-15862.962963</td>\n      <td>-23482.010582</td>\n    </tr>\n    <tr>\n      <th>40</th>\n      <td>Rechargeable_battery</td>\n      <td>-19691.0</td>\n      <td>-16184.383562</td>\n      <td>-23803.431181</td>\n    </tr>\n    <tr>\n      <th>35</th>\n      <td>akm_7.62x39_assault_rifle</td>\n      <td>-23423.0</td>\n      <td>-16533.882353</td>\n      <td>-24152.929972</td>\n    </tr>\n    <tr>\n      <th>41</th>\n      <td>12_70_ap-20_slug</td>\n      <td>-86840.0</td>\n      <td>-18542.348754</td>\n      <td>-26161.396373</td>\n    </tr>\n    <tr>\n      <th>43</th>\n      <td>9x39_mm_7n9_spp</td>\n      <td>-242573.0</td>\n      <td>-23102.190476</td>\n      <td>-30721.238095</td>\n    </tr>\n    <tr>\n      <th>44</th>\n      <td>9x19_mm_7n31</td>\n      <td>-286279.0</td>\n      <td>-23923.036212</td>\n      <td>-31542.083831</td>\n    </tr>\n    <tr>\n      <th>45</th>\n      <td>23x75mm_star</td>\n      <td>-114999.0</td>\n      <td>-25090.690909</td>\n      <td>-32709.738528</td>\n    </tr>\n    <tr>\n      <th>46</th>\n      <td>5.56x45mm_warmage</td>\n      <td>-126636.0</td>\n      <td>-26848.621908</td>\n      <td>-34467.669527</td>\n    </tr>\n    <tr>\n      <th>47</th>\n      <td>zarya_stun_grenade</td>\n      <td>-39768.0</td>\n      <td>-30988.051948</td>\n      <td>-38607.099567</td>\n    </tr>\n    <tr>\n      <th>48</th>\n      <td>FLIR_RS-32_2.25-9x_35mm_60Hz_thermal_riflescope</td>\n      <td>-363522.0</td>\n      <td>-40692.761194</td>\n      <td>-48311.808813</td>\n    </tr>\n    <tr>\n      <th>42</th>\n      <td>car_battery</td>\n      <td>-113514.0</td>\n      <td>-41029.156627</td>\n      <td>-48648.204246</td>\n    </tr>\n    <tr>\n      <th>49</th>\n      <td>T-Shaped_Plug</td>\n      <td>-39252.0</td>\n      <td>-42055.714286</td>\n      <td>-49674.761905</td>\n    </tr>\n    <tr>\n      <th>50</th>\n      <td>Military_circuit_board</td>\n      <td>-104192.0</td>\n      <td>-45967.058824</td>\n      <td>-53586.106443</td>\n    </tr>\n    <tr>\n      <th>51</th>\n      <td>Electric_motor</td>\n      <td>-61926.0</td>\n      <td>-46444.500000</td>\n      <td>-54063.547619</td>\n    </tr>\n    <tr>\n      <th>52</th>\n      <td>Spark_plug</td>\n      <td>-109132.0</td>\n      <td>-56447.586207</td>\n      <td>-64066.633826</td>\n    </tr>\n    <tr>\n      <th>53</th>\n      <td>Broken_GPhone</td>\n      <td>-107448.0</td>\n      <td>-64468.800000</td>\n      <td>-72087.847619</td>\n    </tr>\n    <tr>\n      <th>54</th>\n      <td>9x39_mm_7n12_bp</td>\n      <td>-1158070.0</td>\n      <td>-125649.547920</td>\n      <td>-133268.595539</td>\n    </tr>\n    <tr>\n      <th>55</th>\n      <td>Broken_LCD</td>\n      <td>-105451.0</td>\n      <td>-287593.636364</td>\n      <td>-295212.683983</td>\n    </tr>\n  </tbody>\n</table>\n</div>"
     },
     "execution_count": 8,
     "metadata": {},
     "output_type": "execute_result"
    }
   ],
   "source": [
    "workbench_df, workbench_crafts = analize_crafts(\"Верстак\")\n",
    "workbench_df"
   ],
   "metadata": {
    "collapsed": false,
    "pycharm": {
     "name": "#%%\n"
    }
   }
  },
  {
   "cell_type": "code",
   "execution_count": 9,
   "outputs": [
    {
     "name": "stdout",
     "output_type": "stream",
     "text": [
      "recipes loaded:  9\n",
      "Fuel price:  160000.0\n"
     ]
    },
    {
     "data": {
      "text/plain": "                                         Name    income     income/h  \\\n8                         lab._violet_keycard  429251.0  3246.572545   \n0                    folder_with_intelligence   78898.0  2491.515789   \n1                          secure_flash_drive   40062.0  1170.832927   \n2                    VPX_Flash_Storage_Module   33304.0   532.864000   \n4                             UHF_RFID_Reader   22850.0   428.437500   \n3                               graphics_card  -43988.0  -453.796424   \n5  Military_COFDM_wireless_Signal_Transmitter  -82427.0 -2119.854265   \n6                         object_11sr_keycard -208896.0 -3186.819222   \n7               Virtex_programmable_processor -125439.0 -3336.143617   \n\n   income/h w fuel  \n8     -4372.475074  \n0     -5127.531830  \n1     -6448.214692  \n2     -7086.183619  \n4     -7190.610119  \n3     -8072.844043  \n5     -9738.901884  \n6    -10805.866841  \n7    -10955.191236  ",
      "text/html": "<div>\n<style scoped>\n    .dataframe tbody tr th:only-of-type {\n        vertical-align: middle;\n    }\n\n    .dataframe tbody tr th {\n        vertical-align: top;\n    }\n\n    .dataframe thead th {\n        text-align: right;\n    }\n</style>\n<table border=\"1\" class=\"dataframe\">\n  <thead>\n    <tr style=\"text-align: right;\">\n      <th></th>\n      <th>Name</th>\n      <th>income</th>\n      <th>income/h</th>\n      <th>income/h w fuel</th>\n    </tr>\n  </thead>\n  <tbody>\n    <tr>\n      <th>8</th>\n      <td>lab._violet_keycard</td>\n      <td>429251.0</td>\n      <td>3246.572545</td>\n      <td>-4372.475074</td>\n    </tr>\n    <tr>\n      <th>0</th>\n      <td>folder_with_intelligence</td>\n      <td>78898.0</td>\n      <td>2491.515789</td>\n      <td>-5127.531830</td>\n    </tr>\n    <tr>\n      <th>1</th>\n      <td>secure_flash_drive</td>\n      <td>40062.0</td>\n      <td>1170.832927</td>\n      <td>-6448.214692</td>\n    </tr>\n    <tr>\n      <th>2</th>\n      <td>VPX_Flash_Storage_Module</td>\n      <td>33304.0</td>\n      <td>532.864000</td>\n      <td>-7086.183619</td>\n    </tr>\n    <tr>\n      <th>4</th>\n      <td>UHF_RFID_Reader</td>\n      <td>22850.0</td>\n      <td>428.437500</td>\n      <td>-7190.610119</td>\n    </tr>\n    <tr>\n      <th>3</th>\n      <td>graphics_card</td>\n      <td>-43988.0</td>\n      <td>-453.796424</td>\n      <td>-8072.844043</td>\n    </tr>\n    <tr>\n      <th>5</th>\n      <td>Military_COFDM_wireless_Signal_Transmitter</td>\n      <td>-82427.0</td>\n      <td>-2119.854265</td>\n      <td>-9738.901884</td>\n    </tr>\n    <tr>\n      <th>6</th>\n      <td>object_11sr_keycard</td>\n      <td>-208896.0</td>\n      <td>-3186.819222</td>\n      <td>-10805.866841</td>\n    </tr>\n    <tr>\n      <th>7</th>\n      <td>Virtex_programmable_processor</td>\n      <td>-125439.0</td>\n      <td>-3336.143617</td>\n      <td>-10955.191236</td>\n    </tr>\n  </tbody>\n</table>\n</div>"
     },
     "execution_count": 9,
     "metadata": {},
     "output_type": "execute_result"
    }
   ],
   "source": [
    "intel_center_df, intel_center_crafts = analize_crafts(\"Разведцентр\")\n",
    "intel_center_df"
   ],
   "metadata": {
    "collapsed": false,
    "pycharm": {
     "name": "#%%\n"
    }
   }
  },
  {
   "cell_type": "code",
   "execution_count": 10,
   "outputs": [
    {
     "name": "stdout",
     "output_type": "stream",
     "text": [
      "recipes loaded:  19\n",
      "Fuel price:  160000.0\n"
     ]
    },
    {
     "data": {
      "text/plain": "                                    Name    income       income/h  \\\n0                           Pile_of_meds    8548.0   10685.000000   \n1   Combat_stimulant_injector_SJ6_TGLabs   11351.0    8012.470588   \n3                               Propital    2618.0    1365.913043   \n4                           ai-2_medikit    -563.0   -1535.454545   \n5                                CMS_kit   -1564.0   -1915.102041   \n2                 Portable_defibrillator  -23492.0   -4474.666667   \n6   IFAK_personal_tactical_first_aid_kit   -4396.0   -5275.200000   \n7             ledx_skin_transilluminator -213641.0   -5494.410630   \n8                    m.u.l.e._stimulator  -16989.0  -11201.538462   \n9   Combat_stimulant_injector_SJ1_TGLabs  -15928.0  -11514.216867   \n10                       antidote_xtg-12  -15066.0  -12913.714286   \n11  afak_personal_tactical_first_aid_kit  -15631.0  -15631.000000   \n12                 Grizzly_First_Aid_Kit  -23261.0  -18608.800000   \n13             Surv12_field_surgical_kit  -25882.0  -20433.157895   \n14                  Salewa_FIRST_AID_KIT  -17867.0  -27487.692308   \n15                     Morphine_injector  -33416.0  -27846.666667   \n16                              Vaseline  -47544.0  -51866.181818   \n17                    calok-b_hemostatic  -28394.0  -56788.000000   \n18                      Medical_bloodset  -55906.0 -124235.555556   \n\n    income/h w fuel  \n0       3065.952381  \n1        393.422969  \n3      -6253.134576  \n4      -9154.502165  \n5      -9534.149660  \n2     -12093.714286  \n6     -12894.247619  \n7     -13113.458249  \n8     -18820.586081  \n9     -19133.264487  \n10    -20532.761905  \n11    -23250.047619  \n12    -26227.847619  \n13    -28052.205514  \n14    -35106.739927  \n15    -35465.714286  \n16    -59485.229437  \n17    -64407.047619  \n18   -131854.603175  ",
      "text/html": "<div>\n<style scoped>\n    .dataframe tbody tr th:only-of-type {\n        vertical-align: middle;\n    }\n\n    .dataframe tbody tr th {\n        vertical-align: top;\n    }\n\n    .dataframe thead th {\n        text-align: right;\n    }\n</style>\n<table border=\"1\" class=\"dataframe\">\n  <thead>\n    <tr style=\"text-align: right;\">\n      <th></th>\n      <th>Name</th>\n      <th>income</th>\n      <th>income/h</th>\n      <th>income/h w fuel</th>\n    </tr>\n  </thead>\n  <tbody>\n    <tr>\n      <th>0</th>\n      <td>Pile_of_meds</td>\n      <td>8548.0</td>\n      <td>10685.000000</td>\n      <td>3065.952381</td>\n    </tr>\n    <tr>\n      <th>1</th>\n      <td>Combat_stimulant_injector_SJ6_TGLabs</td>\n      <td>11351.0</td>\n      <td>8012.470588</td>\n      <td>393.422969</td>\n    </tr>\n    <tr>\n      <th>3</th>\n      <td>Propital</td>\n      <td>2618.0</td>\n      <td>1365.913043</td>\n      <td>-6253.134576</td>\n    </tr>\n    <tr>\n      <th>4</th>\n      <td>ai-2_medikit</td>\n      <td>-563.0</td>\n      <td>-1535.454545</td>\n      <td>-9154.502165</td>\n    </tr>\n    <tr>\n      <th>5</th>\n      <td>CMS_kit</td>\n      <td>-1564.0</td>\n      <td>-1915.102041</td>\n      <td>-9534.149660</td>\n    </tr>\n    <tr>\n      <th>2</th>\n      <td>Portable_defibrillator</td>\n      <td>-23492.0</td>\n      <td>-4474.666667</td>\n      <td>-12093.714286</td>\n    </tr>\n    <tr>\n      <th>6</th>\n      <td>IFAK_personal_tactical_first_aid_kit</td>\n      <td>-4396.0</td>\n      <td>-5275.200000</td>\n      <td>-12894.247619</td>\n    </tr>\n    <tr>\n      <th>7</th>\n      <td>ledx_skin_transilluminator</td>\n      <td>-213641.0</td>\n      <td>-5494.410630</td>\n      <td>-13113.458249</td>\n    </tr>\n    <tr>\n      <th>8</th>\n      <td>m.u.l.e._stimulator</td>\n      <td>-16989.0</td>\n      <td>-11201.538462</td>\n      <td>-18820.586081</td>\n    </tr>\n    <tr>\n      <th>9</th>\n      <td>Combat_stimulant_injector_SJ1_TGLabs</td>\n      <td>-15928.0</td>\n      <td>-11514.216867</td>\n      <td>-19133.264487</td>\n    </tr>\n    <tr>\n      <th>10</th>\n      <td>antidote_xtg-12</td>\n      <td>-15066.0</td>\n      <td>-12913.714286</td>\n      <td>-20532.761905</td>\n    </tr>\n    <tr>\n      <th>11</th>\n      <td>afak_personal_tactical_first_aid_kit</td>\n      <td>-15631.0</td>\n      <td>-15631.000000</td>\n      <td>-23250.047619</td>\n    </tr>\n    <tr>\n      <th>12</th>\n      <td>Grizzly_First_Aid_Kit</td>\n      <td>-23261.0</td>\n      <td>-18608.800000</td>\n      <td>-26227.847619</td>\n    </tr>\n    <tr>\n      <th>13</th>\n      <td>Surv12_field_surgical_kit</td>\n      <td>-25882.0</td>\n      <td>-20433.157895</td>\n      <td>-28052.205514</td>\n    </tr>\n    <tr>\n      <th>14</th>\n      <td>Salewa_FIRST_AID_KIT</td>\n      <td>-17867.0</td>\n      <td>-27487.692308</td>\n      <td>-35106.739927</td>\n    </tr>\n    <tr>\n      <th>15</th>\n      <td>Morphine_injector</td>\n      <td>-33416.0</td>\n      <td>-27846.666667</td>\n      <td>-35465.714286</td>\n    </tr>\n    <tr>\n      <th>16</th>\n      <td>Vaseline</td>\n      <td>-47544.0</td>\n      <td>-51866.181818</td>\n      <td>-59485.229437</td>\n    </tr>\n    <tr>\n      <th>17</th>\n      <td>calok-b_hemostatic</td>\n      <td>-28394.0</td>\n      <td>-56788.000000</td>\n      <td>-64407.047619</td>\n    </tr>\n    <tr>\n      <th>18</th>\n      <td>Medical_bloodset</td>\n      <td>-55906.0</td>\n      <td>-124235.555556</td>\n      <td>-131854.603175</td>\n    </tr>\n  </tbody>\n</table>\n</div>"
     },
     "execution_count": 10,
     "metadata": {},
     "output_type": "execute_result"
    }
   ],
   "source": [
    "medstation_df, medstation_crafts = analize_crafts(\"Медблок\")\n",
    "medstation_df"
   ],
   "metadata": {
    "collapsed": false,
    "pycharm": {
     "name": "#%%\n"
    }
   }
  },
  {
   "cell_type": "code",
   "execution_count": 12,
   "outputs": [
    {
     "name": "stdout",
     "output_type": "stream",
     "text": [
      "recipes loaded:  14\n",
      "Fuel price:  160000.0\n"
     ]
    },
    {
     "data": {
      "text/plain": "                                             Name    income      income/h  \\\n0                                         Hot_Rod  -18898.0  -2357.338877   \n1                              Wilston_cigarettes   -5847.0  -3473.465347   \n2                                      Max_energy  -10713.0  -5951.666667   \n3                                    Slickers_bar   -8887.0  -7510.140845   \n4                          emergency_water_ration   -9367.0  -8515.454545   \n5                                Can_of_beef_stew  -11858.0  -9121.538462   \n6                               0.6L_water_bottle  -22084.0 -12045.818182   \n7                                   Pack_of_sugar  -21906.0 -15835.662651   \n8             Water_bottle_with_a_filter_Aquamari  -79136.0 -16316.701031   \n9                   Bottle_of_Dan_Jackiel_Whiskey  -31378.0 -17761.132075   \n10                                Iskra_lunch_box  -17004.0 -21255.000000   \n11                                 Condensed_milk  -53123.0 -39350.370370   \n12  premium_kvass_norvinskiy_yadreniy_0.6l_bottle  -68580.0 -65314.285714   \n13                    Bottle_of_vodka_Tarkovskaya -132458.0 -83657.684211   \n\n    income/h w fuel  \n0      -9976.386496  \n1     -11092.512966  \n2     -13570.714286  \n3     -15129.188464  \n4     -16134.502165  \n5     -16740.586081  \n6     -19664.865801  \n7     -23454.710270  \n8     -23935.748650  \n9     -25380.179695  \n10    -28874.047619  \n11    -46969.417989  \n12    -72933.333333  \n13    -91276.731830  ",
      "text/html": "<div>\n<style scoped>\n    .dataframe tbody tr th:only-of-type {\n        vertical-align: middle;\n    }\n\n    .dataframe tbody tr th {\n        vertical-align: top;\n    }\n\n    .dataframe thead th {\n        text-align: right;\n    }\n</style>\n<table border=\"1\" class=\"dataframe\">\n  <thead>\n    <tr style=\"text-align: right;\">\n      <th></th>\n      <th>Name</th>\n      <th>income</th>\n      <th>income/h</th>\n      <th>income/h w fuel</th>\n    </tr>\n  </thead>\n  <tbody>\n    <tr>\n      <th>0</th>\n      <td>Hot_Rod</td>\n      <td>-18898.0</td>\n      <td>-2357.338877</td>\n      <td>-9976.386496</td>\n    </tr>\n    <tr>\n      <th>1</th>\n      <td>Wilston_cigarettes</td>\n      <td>-5847.0</td>\n      <td>-3473.465347</td>\n      <td>-11092.512966</td>\n    </tr>\n    <tr>\n      <th>2</th>\n      <td>Max_energy</td>\n      <td>-10713.0</td>\n      <td>-5951.666667</td>\n      <td>-13570.714286</td>\n    </tr>\n    <tr>\n      <th>3</th>\n      <td>Slickers_bar</td>\n      <td>-8887.0</td>\n      <td>-7510.140845</td>\n      <td>-15129.188464</td>\n    </tr>\n    <tr>\n      <th>4</th>\n      <td>emergency_water_ration</td>\n      <td>-9367.0</td>\n      <td>-8515.454545</td>\n      <td>-16134.502165</td>\n    </tr>\n    <tr>\n      <th>5</th>\n      <td>Can_of_beef_stew</td>\n      <td>-11858.0</td>\n      <td>-9121.538462</td>\n      <td>-16740.586081</td>\n    </tr>\n    <tr>\n      <th>6</th>\n      <td>0.6L_water_bottle</td>\n      <td>-22084.0</td>\n      <td>-12045.818182</td>\n      <td>-19664.865801</td>\n    </tr>\n    <tr>\n      <th>7</th>\n      <td>Pack_of_sugar</td>\n      <td>-21906.0</td>\n      <td>-15835.662651</td>\n      <td>-23454.710270</td>\n    </tr>\n    <tr>\n      <th>8</th>\n      <td>Water_bottle_with_a_filter_Aquamari</td>\n      <td>-79136.0</td>\n      <td>-16316.701031</td>\n      <td>-23935.748650</td>\n    </tr>\n    <tr>\n      <th>9</th>\n      <td>Bottle_of_Dan_Jackiel_Whiskey</td>\n      <td>-31378.0</td>\n      <td>-17761.132075</td>\n      <td>-25380.179695</td>\n    </tr>\n    <tr>\n      <th>10</th>\n      <td>Iskra_lunch_box</td>\n      <td>-17004.0</td>\n      <td>-21255.000000</td>\n      <td>-28874.047619</td>\n    </tr>\n    <tr>\n      <th>11</th>\n      <td>Condensed_milk</td>\n      <td>-53123.0</td>\n      <td>-39350.370370</td>\n      <td>-46969.417989</td>\n    </tr>\n    <tr>\n      <th>12</th>\n      <td>premium_kvass_norvinskiy_yadreniy_0.6l_bottle</td>\n      <td>-68580.0</td>\n      <td>-65314.285714</td>\n      <td>-72933.333333</td>\n    </tr>\n    <tr>\n      <th>13</th>\n      <td>Bottle_of_vodka_Tarkovskaya</td>\n      <td>-132458.0</td>\n      <td>-83657.684211</td>\n      <td>-91276.731830</td>\n    </tr>\n  </tbody>\n</table>\n</div>"
     },
     "execution_count": 12,
     "metadata": {},
     "output_type": "execute_result"
    }
   ],
   "source": [
    "nutrition_unit_df, nutrition_unit_crafts = analize_crafts(\"Пищеблок\")\n",
    "nutrition_unit_df"
   ],
   "metadata": {
    "collapsed": false,
    "pycharm": {
     "name": "#%%\n"
    }
   }
  },
  {
   "cell_type": "code",
   "execution_count": null,
   "outputs": [],
   "source": [],
   "metadata": {
    "collapsed": false,
    "pycharm": {
     "name": "#%%\n"
    }
   }
  }
 ],
 "metadata": {
  "kernelspec": {
   "display_name": "Python 3",
   "language": "python",
   "name": "python3"
  },
  "language_info": {
   "codemirror_mode": {
    "name": "ipython",
    "version": 2
   },
   "file_extension": ".py",
   "mimetype": "text/x-python",
   "name": "python",
   "nbconvert_exporter": "python",
   "pygments_lexer": "ipython2",
   "version": "2.7.6"
  }
 },
 "nbformat": 4,
 "nbformat_minor": 0
}