{
 "cells": [
  {
   "cell_type": "code",
   "execution_count": 1,
   "outputs": [],
   "source": [
    "from selenium import webdriver\n",
    "\n",
    "import pandas as pd\n",
    "from utils import *\n",
    "import numpy as np\n",
    "import requests\n",
    "from bs4 import BeautifulSoup\n",
    "from analizer_bind import *"
   ],
   "metadata": {
    "collapsed": false,
    "pycharm": {
     "name": "#%%\n"
    }
   }
  },
  {
   "cell_type": "code",
   "execution_count": 2,
   "outputs": [],
   "source": [
    "%load_ext autoreload\n",
    "%autoreload 2"
   ],
   "metadata": {
    "collapsed": false,
    "pycharm": {
     "name": "#%%\n"
    }
   }
  },
  {
   "cell_type": "code",
   "execution_count": 3,
   "outputs": [
    {
     "name": "stdout",
     "output_type": "stream",
     "text": [
      "recipes loaded:  56\n",
      "Fuel price:  160000.0\n"
     ]
    }
   ],
   "source": [
    "df, crafts = analize_crafts(\"Верстак\")"
   ],
   "metadata": {
    "collapsed": false,
    "pycharm": {
     "name": "#%%\n"
    }
   }
  },
  {
   "cell_type": "code",
   "execution_count": 20,
   "outputs": [
    {
     "data": {
      "text/plain": "                                               Name     income       income/h  \\\n3                          vog-25_khattabka_grenade    24802.0   14881.200000   \n1                                   12_70_flechette    24842.0   11924.160000   \n8                                        Capacitors    18979.0    9183.387097   \n9                          greenbat_lithium_battery    43569.0    8713.800000   \n10                                 Gunpowder_\"Kite\"    11594.0    7816.179775   \n4                              9x18_mm_pm_rg028_gzh    12480.0    7269.902913   \n6                                       9x19_mm_rip    34972.0    6812.727273   \n12                                           Magnet     4077.0    5688.837209   \n2                                         Powercord     2760.0    4731.428571   \n13                                          .366_ap    24400.0    3485.714286   \n7                                             Wires     5092.0    2589.152542   \n19                            Printed_circuit_board      461.0     838.181818   \n20                              bulbex_cable_cutter     -751.0    -108.317308   \n15                                      NIXXOR_lens    -2177.0    -865.033113   \n11                                   9x18_mm_pm_pbm    -4400.0   -1133.047210   \n21                                     7.62x54r_snb   -17200.0   -1717.138103   \n16                                Gunpowder_\"Eagle\"    -5636.0   -3486.185567   \n27                                    5.45x39_mm_pp   -25280.0   -4582.477341   \n22                        akm_7.62x39_assault_rifle    -6540.0   -4616.470588   \n18                     ak-74m_5.45x39_assault_rifle    -6563.0   -4744.337349   \n23                                    7.62x39_mm_bp   -86626.0   -5197.560000   \n26                                     Gas_analyzer  -106674.0   -6268.795299   \n24                      12_70_hp_slug_superformance   -26039.0   -6705.321888   \n28                                5.56x45_mm_m856a1   -87400.0   -7010.695187   \n25                          5.45x39_mm_7n39_igolnik  -127416.0   -7487.717924   \n5                      ak-74n_5.45x39_assault_rifle   -10423.0   -7720.740741   \n37                               rgd-5_hand_grenade   -42827.0   -8424.983607   \n33                                     9x39_mm_sp-6   -77860.0   -8447.739602   \n36                                       .45_acp_ap   -63000.0   -8475.336323   \n35                                   9x19_mm_ap_6.3   -72700.0   -9183.157895   \n39                                     Weapon_parts    -7957.0   -9361.176471   \n32                               OFZ_30x160mm_shell  -102195.0   -9433.384615   \n17                     12_70_8.5_mm_magnum_buckshot   -14795.0   -9754.945055   \n0                                  Gunpowder_\"Hawk\"    -6092.0  -10443.428571   \n14                                 Gunpowder_\"Hawk\"   -19645.0  -10524.107143   \n40                                  5.56x45_mm_m995  -173151.0  -10833.222106   \n34                                     Weapon_parts   -14914.0  -11472.307692   \n31                            Geiger-Muller_counter   -19133.0  -12615.164835   \n38                                   7.62x51_mm_m61  -222557.0  -13380.180361   \n41                             Rechargeable_battery   -18690.0  -15361.643836   \n29                                  9x39_mm_7n9_spp  -170099.0  -16199.904762   \n43                                 12_70_ap-20_slug   -87840.0  -18755.871886   \n42                            Printed_circuit_board   -15317.0  -19146.250000   \n30                                5.56x45mm_warmage   -97466.0  -20664.169611   \n44                                     9x19_mm_7n31  -285419.0  -23851.169916   \n46                                     23x75mm_star  -139990.0  -30543.272727   \n50  FLIR_RS-32_2.25-9x_35mm_60Hz_thermal_riflescope  -339466.0  -37999.925373   \n48                                    T-Shaped_Plug   -38143.0  -40867.500000   \n47                           Military_circuit_board   -97156.0  -42862.941176   \n49                               zarya_stun_grenade   -60725.0  -47318.181818   \n51                                       Spark_plug   -95233.0  -49258.448276   \n52                                   Electric_motor   -68435.0  -51326.250000   \n45                                      car_battery  -142464.0  -51493.012048   \n53                                    Broken_GPhone  -109411.0  -65646.600000   \n54                                  9x39_mm_7n12_bp -1240958.0 -134642.820976   \n55                                       Broken_LCD   -83445.0 -227577.272727   \n\n    income/h w fuel  \n3       7309.819048  \n1       4352.779048  \n8       1612.006144  \n9       1142.419048  \n10       244.798823  \n4       -301.478040  \n6       -758.653680  \n12     -1882.543743  \n2      -2839.952381  \n13     -4085.666667  \n7      -4982.228410  \n19     -6733.199134  \n20     -7679.698260  \n15     -8436.414065  \n11     -8704.428163  \n21     -9288.519056  \n16    -11057.566519  \n27    -12153.858294  \n22    -12187.851541  \n18    -12315.718302  \n23    -12768.940952  \n26    -13840.176251  \n24    -14276.702841  \n28    -14582.076140  \n25    -15059.098876  \n5     -15292.121693  \n37    -15996.364559  \n33    -16019.120555  \n36    -16046.717275  \n35    -16754.538847  \n39    -16932.557423  \n32    -17004.765568  \n17    -17326.326007  \n0     -18014.809524  \n14    -18095.488095  \n40    -18404.603059  \n34    -19043.688645  \n31    -20186.545788  \n38    -20951.561313  \n41    -22933.024788  \n29    -23771.285714  \n43    -26327.252839  \n42    -26717.630952  \n30    -28235.550564  \n44    -31422.550869  \n46    -38114.653680  \n50    -45571.306326  \n48    -48438.880952  \n47    -50434.322129  \n49    -54889.562771  \n51    -56829.829228  \n52    -58897.630952  \n45    -59064.393001  \n53    -73217.980952  \n54   -142214.201929  \n55   -235148.653680  ",
      "text/html": "<div>\n<style scoped>\n    .dataframe tbody tr th:only-of-type {\n        vertical-align: middle;\n    }\n\n    .dataframe tbody tr th {\n        vertical-align: top;\n    }\n\n    .dataframe thead th {\n        text-align: right;\n    }\n</style>\n<table border=\"1\" class=\"dataframe\">\n  <thead>\n    <tr style=\"text-align: right;\">\n      <th></th>\n      <th>Name</th>\n      <th>income</th>\n      <th>income/h</th>\n      <th>income/h w fuel</th>\n    </tr>\n  </thead>\n  <tbody>\n    <tr>\n      <th>3</th>\n      <td>vog-25_khattabka_grenade</td>\n      <td>24802.0</td>\n      <td>14881.200000</td>\n      <td>7309.819048</td>\n    </tr>\n    <tr>\n      <th>1</th>\n      <td>12_70_flechette</td>\n      <td>24842.0</td>\n      <td>11924.160000</td>\n      <td>4352.779048</td>\n    </tr>\n    <tr>\n      <th>8</th>\n      <td>Capacitors</td>\n      <td>18979.0</td>\n      <td>9183.387097</td>\n      <td>1612.006144</td>\n    </tr>\n    <tr>\n      <th>9</th>\n      <td>greenbat_lithium_battery</td>\n      <td>43569.0</td>\n      <td>8713.800000</td>\n      <td>1142.419048</td>\n    </tr>\n    <tr>\n      <th>10</th>\n      <td>Gunpowder_\"Kite\"</td>\n      <td>11594.0</td>\n      <td>7816.179775</td>\n      <td>244.798823</td>\n    </tr>\n    <tr>\n      <th>4</th>\n      <td>9x18_mm_pm_rg028_gzh</td>\n      <td>12480.0</td>\n      <td>7269.902913</td>\n      <td>-301.478040</td>\n    </tr>\n    <tr>\n      <th>6</th>\n      <td>9x19_mm_rip</td>\n      <td>34972.0</td>\n      <td>6812.727273</td>\n      <td>-758.653680</td>\n    </tr>\n    <tr>\n      <th>12</th>\n      <td>Magnet</td>\n      <td>4077.0</td>\n      <td>5688.837209</td>\n      <td>-1882.543743</td>\n    </tr>\n    <tr>\n      <th>2</th>\n      <td>Powercord</td>\n      <td>2760.0</td>\n      <td>4731.428571</td>\n      <td>-2839.952381</td>\n    </tr>\n    <tr>\n      <th>13</th>\n      <td>.366_ap</td>\n      <td>24400.0</td>\n      <td>3485.714286</td>\n      <td>-4085.666667</td>\n    </tr>\n    <tr>\n      <th>7</th>\n      <td>Wires</td>\n      <td>5092.0</td>\n      <td>2589.152542</td>\n      <td>-4982.228410</td>\n    </tr>\n    <tr>\n      <th>19</th>\n      <td>Printed_circuit_board</td>\n      <td>461.0</td>\n      <td>838.181818</td>\n      <td>-6733.199134</td>\n    </tr>\n    <tr>\n      <th>20</th>\n      <td>bulbex_cable_cutter</td>\n      <td>-751.0</td>\n      <td>-108.317308</td>\n      <td>-7679.698260</td>\n    </tr>\n    <tr>\n      <th>15</th>\n      <td>NIXXOR_lens</td>\n      <td>-2177.0</td>\n      <td>-865.033113</td>\n      <td>-8436.414065</td>\n    </tr>\n    <tr>\n      <th>11</th>\n      <td>9x18_mm_pm_pbm</td>\n      <td>-4400.0</td>\n      <td>-1133.047210</td>\n      <td>-8704.428163</td>\n    </tr>\n    <tr>\n      <th>21</th>\n      <td>7.62x54r_snb</td>\n      <td>-17200.0</td>\n      <td>-1717.138103</td>\n      <td>-9288.519056</td>\n    </tr>\n    <tr>\n      <th>16</th>\n      <td>Gunpowder_\"Eagle\"</td>\n      <td>-5636.0</td>\n      <td>-3486.185567</td>\n      <td>-11057.566519</td>\n    </tr>\n    <tr>\n      <th>27</th>\n      <td>5.45x39_mm_pp</td>\n      <td>-25280.0</td>\n      <td>-4582.477341</td>\n      <td>-12153.858294</td>\n    </tr>\n    <tr>\n      <th>22</th>\n      <td>akm_7.62x39_assault_rifle</td>\n      <td>-6540.0</td>\n      <td>-4616.470588</td>\n      <td>-12187.851541</td>\n    </tr>\n    <tr>\n      <th>18</th>\n      <td>ak-74m_5.45x39_assault_rifle</td>\n      <td>-6563.0</td>\n      <td>-4744.337349</td>\n      <td>-12315.718302</td>\n    </tr>\n    <tr>\n      <th>23</th>\n      <td>7.62x39_mm_bp</td>\n      <td>-86626.0</td>\n      <td>-5197.560000</td>\n      <td>-12768.940952</td>\n    </tr>\n    <tr>\n      <th>26</th>\n      <td>Gas_analyzer</td>\n      <td>-106674.0</td>\n      <td>-6268.795299</td>\n      <td>-13840.176251</td>\n    </tr>\n    <tr>\n      <th>24</th>\n      <td>12_70_hp_slug_superformance</td>\n      <td>-26039.0</td>\n      <td>-6705.321888</td>\n      <td>-14276.702841</td>\n    </tr>\n    <tr>\n      <th>28</th>\n      <td>5.56x45_mm_m856a1</td>\n      <td>-87400.0</td>\n      <td>-7010.695187</td>\n      <td>-14582.076140</td>\n    </tr>\n    <tr>\n      <th>25</th>\n      <td>5.45x39_mm_7n39_igolnik</td>\n      <td>-127416.0</td>\n      <td>-7487.717924</td>\n      <td>-15059.098876</td>\n    </tr>\n    <tr>\n      <th>5</th>\n      <td>ak-74n_5.45x39_assault_rifle</td>\n      <td>-10423.0</td>\n      <td>-7720.740741</td>\n      <td>-15292.121693</td>\n    </tr>\n    <tr>\n      <th>37</th>\n      <td>rgd-5_hand_grenade</td>\n      <td>-42827.0</td>\n      <td>-8424.983607</td>\n      <td>-15996.364559</td>\n    </tr>\n    <tr>\n      <th>33</th>\n      <td>9x39_mm_sp-6</td>\n      <td>-77860.0</td>\n      <td>-8447.739602</td>\n      <td>-16019.120555</td>\n    </tr>\n    <tr>\n      <th>36</th>\n      <td>.45_acp_ap</td>\n      <td>-63000.0</td>\n      <td>-8475.336323</td>\n      <td>-16046.717275</td>\n    </tr>\n    <tr>\n      <th>35</th>\n      <td>9x19_mm_ap_6.3</td>\n      <td>-72700.0</td>\n      <td>-9183.157895</td>\n      <td>-16754.538847</td>\n    </tr>\n    <tr>\n      <th>39</th>\n      <td>Weapon_parts</td>\n      <td>-7957.0</td>\n      <td>-9361.176471</td>\n      <td>-16932.557423</td>\n    </tr>\n    <tr>\n      <th>32</th>\n      <td>OFZ_30x160mm_shell</td>\n      <td>-102195.0</td>\n      <td>-9433.384615</td>\n      <td>-17004.765568</td>\n    </tr>\n    <tr>\n      <th>17</th>\n      <td>12_70_8.5_mm_magnum_buckshot</td>\n      <td>-14795.0</td>\n      <td>-9754.945055</td>\n      <td>-17326.326007</td>\n    </tr>\n    <tr>\n      <th>0</th>\n      <td>Gunpowder_\"Hawk\"</td>\n      <td>-6092.0</td>\n      <td>-10443.428571</td>\n      <td>-18014.809524</td>\n    </tr>\n    <tr>\n      <th>14</th>\n      <td>Gunpowder_\"Hawk\"</td>\n      <td>-19645.0</td>\n      <td>-10524.107143</td>\n      <td>-18095.488095</td>\n    </tr>\n    <tr>\n      <th>40</th>\n      <td>5.56x45_mm_m995</td>\n      <td>-173151.0</td>\n      <td>-10833.222106</td>\n      <td>-18404.603059</td>\n    </tr>\n    <tr>\n      <th>34</th>\n      <td>Weapon_parts</td>\n      <td>-14914.0</td>\n      <td>-11472.307692</td>\n      <td>-19043.688645</td>\n    </tr>\n    <tr>\n      <th>31</th>\n      <td>Geiger-Muller_counter</td>\n      <td>-19133.0</td>\n      <td>-12615.164835</td>\n      <td>-20186.545788</td>\n    </tr>\n    <tr>\n      <th>38</th>\n      <td>7.62x51_mm_m61</td>\n      <td>-222557.0</td>\n      <td>-13380.180361</td>\n      <td>-20951.561313</td>\n    </tr>\n    <tr>\n      <th>41</th>\n      <td>Rechargeable_battery</td>\n      <td>-18690.0</td>\n      <td>-15361.643836</td>\n      <td>-22933.024788</td>\n    </tr>\n    <tr>\n      <th>29</th>\n      <td>9x39_mm_7n9_spp</td>\n      <td>-170099.0</td>\n      <td>-16199.904762</td>\n      <td>-23771.285714</td>\n    </tr>\n    <tr>\n      <th>43</th>\n      <td>12_70_ap-20_slug</td>\n      <td>-87840.0</td>\n      <td>-18755.871886</td>\n      <td>-26327.252839</td>\n    </tr>\n    <tr>\n      <th>42</th>\n      <td>Printed_circuit_board</td>\n      <td>-15317.0</td>\n      <td>-19146.250000</td>\n      <td>-26717.630952</td>\n    </tr>\n    <tr>\n      <th>30</th>\n      <td>5.56x45mm_warmage</td>\n      <td>-97466.0</td>\n      <td>-20664.169611</td>\n      <td>-28235.550564</td>\n    </tr>\n    <tr>\n      <th>44</th>\n      <td>9x19_mm_7n31</td>\n      <td>-285419.0</td>\n      <td>-23851.169916</td>\n      <td>-31422.550869</td>\n    </tr>\n    <tr>\n      <th>46</th>\n      <td>23x75mm_star</td>\n      <td>-139990.0</td>\n      <td>-30543.272727</td>\n      <td>-38114.653680</td>\n    </tr>\n    <tr>\n      <th>50</th>\n      <td>FLIR_RS-32_2.25-9x_35mm_60Hz_thermal_riflescope</td>\n      <td>-339466.0</td>\n      <td>-37999.925373</td>\n      <td>-45571.306326</td>\n    </tr>\n    <tr>\n      <th>48</th>\n      <td>T-Shaped_Plug</td>\n      <td>-38143.0</td>\n      <td>-40867.500000</td>\n      <td>-48438.880952</td>\n    </tr>\n    <tr>\n      <th>47</th>\n      <td>Military_circuit_board</td>\n      <td>-97156.0</td>\n      <td>-42862.941176</td>\n      <td>-50434.322129</td>\n    </tr>\n    <tr>\n      <th>49</th>\n      <td>zarya_stun_grenade</td>\n      <td>-60725.0</td>\n      <td>-47318.181818</td>\n      <td>-54889.562771</td>\n    </tr>\n    <tr>\n      <th>51</th>\n      <td>Spark_plug</td>\n      <td>-95233.0</td>\n      <td>-49258.448276</td>\n      <td>-56829.829228</td>\n    </tr>\n    <tr>\n      <th>52</th>\n      <td>Electric_motor</td>\n      <td>-68435.0</td>\n      <td>-51326.250000</td>\n      <td>-58897.630952</td>\n    </tr>\n    <tr>\n      <th>45</th>\n      <td>car_battery</td>\n      <td>-142464.0</td>\n      <td>-51493.012048</td>\n      <td>-59064.393001</td>\n    </tr>\n    <tr>\n      <th>53</th>\n      <td>Broken_GPhone</td>\n      <td>-109411.0</td>\n      <td>-65646.600000</td>\n      <td>-73217.980952</td>\n    </tr>\n    <tr>\n      <th>54</th>\n      <td>9x39_mm_7n12_bp</td>\n      <td>-1240958.0</td>\n      <td>-134642.820976</td>\n      <td>-142214.201929</td>\n    </tr>\n    <tr>\n      <th>55</th>\n      <td>Broken_LCD</td>\n      <td>-83445.0</td>\n      <td>-227577.272727</td>\n      <td>-235148.653680</td>\n    </tr>\n  </tbody>\n</table>\n</div>"
     },
     "execution_count": 20,
     "metadata": {},
     "output_type": "execute_result"
    }
   ],
   "source": [
    "df"
   ],
   "metadata": {
    "collapsed": false,
    "pycharm": {
     "name": "#%%\n"
    }
   }
  },
  {
   "cell_type": "code",
   "execution_count": null,
   "outputs": [],
   "source": [],
   "metadata": {
    "collapsed": false,
    "pycharm": {
     "name": "#%%\n"
    }
   }
  }
 ],
 "metadata": {
  "kernelspec": {
   "display_name": "Python 3",
   "language": "python",
   "name": "python3"
  },
  "language_info": {
   "codemirror_mode": {
    "name": "ipython",
    "version": 2
   },
   "file_extension": ".py",
   "mimetype": "text/x-python",
   "name": "python",
   "nbconvert_exporter": "python",
   "pygments_lexer": "ipython2",
   "version": "2.7.6"
  }
 },
 "nbformat": 4,
 "nbformat_minor": 0
}