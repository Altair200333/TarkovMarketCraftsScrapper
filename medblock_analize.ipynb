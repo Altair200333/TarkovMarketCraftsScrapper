{
 "cells": [
  {
   "cell_type": "code",
   "execution_count": 1,
   "metadata": {
    "collapsed": true
   },
   "outputs": [],
   "source": [
    "from selenium import webdriver\n",
    "\n",
    "import pandas as pd\n",
    "from utils import *\n",
    "import numpy as np\n",
    "import requests\n",
    "from bs4 import BeautifulSoup\n",
    "from analizer_bind import *"
   ]
  },
  {
   "cell_type": "code",
   "execution_count": 2,
   "outputs": [],
   "source": [
    "%load_ext autoreload\n",
    "%autoreload 2"
   ],
   "metadata": {
    "collapsed": false,
    "pycharm": {
     "name": "#%%\n"
    }
   }
  },
  {
   "cell_type": "code",
   "execution_count": 3,
   "outputs": [
    {
     "name": "stdout",
     "output_type": "stream",
     "text": [
      "recipes loaded:  19\n",
      "Fuel price:  160000.0\n"
     ]
    }
   ],
   "source": [
    "df, crafts = analize_crafts(\"Медблок\")"
   ],
   "metadata": {
    "collapsed": false,
    "pycharm": {
     "name": "#%%\n"
    }
   }
  },
  {
   "cell_type": "code",
   "execution_count": 4,
   "outputs": [
    {
     "data": {
      "text/plain": "                                    Name    income       income/h  \\\n0                           Pile_of_meds    8548.0   10685.000000   \n1   Combat_stimulant_injector_SJ6_TGLabs   11351.0    8012.470588   \n3                               Propital    2618.0    1365.913043   \n4                           ai-2_medikit    -563.0   -1535.454545   \n5                                CMS_kit   -1564.0   -1915.102041   \n2                 Portable_defibrillator  -23492.0   -4474.666667   \n6   IFAK_personal_tactical_first_aid_kit   -4396.0   -5275.200000   \n7             ledx_skin_transilluminator -213641.0   -5494.410630   \n8                    m.u.l.e._stimulator  -16989.0  -11201.538462   \n9   Combat_stimulant_injector_SJ1_TGLabs  -15928.0  -11514.216867   \n10                       antidote_xtg-12  -15066.0  -12913.714286   \n11  afak_personal_tactical_first_aid_kit  -15631.0  -15631.000000   \n12                 Grizzly_First_Aid_Kit  -23261.0  -18608.800000   \n13             Surv12_field_surgical_kit  -25882.0  -20433.157895   \n14                  Salewa_FIRST_AID_KIT  -17867.0  -27487.692308   \n15                     Morphine_injector  -33416.0  -27846.666667   \n16                              Vaseline  -47544.0  -51866.181818   \n17                    calok-b_hemostatic  -28394.0  -56788.000000   \n18                      Medical_bloodset  -55906.0 -124235.555556   \n\n    income/h w fuel  \n0       3065.952381  \n1        393.422969  \n3      -6253.134576  \n4      -9154.502165  \n5      -9534.149660  \n2     -12093.714286  \n6     -12894.247619  \n7     -13113.458249  \n8     -18820.586081  \n9     -19133.264487  \n10    -20532.761905  \n11    -23250.047619  \n12    -26227.847619  \n13    -28052.205514  \n14    -35106.739927  \n15    -35465.714286  \n16    -59485.229437  \n17    -64407.047619  \n18   -131854.603175  ",
      "text/html": "<div>\n<style scoped>\n    .dataframe tbody tr th:only-of-type {\n        vertical-align: middle;\n    }\n\n    .dataframe tbody tr th {\n        vertical-align: top;\n    }\n\n    .dataframe thead th {\n        text-align: right;\n    }\n</style>\n<table border=\"1\" class=\"dataframe\">\n  <thead>\n    <tr style=\"text-align: right;\">\n      <th></th>\n      <th>Name</th>\n      <th>income</th>\n      <th>income/h</th>\n      <th>income/h w fuel</th>\n    </tr>\n  </thead>\n  <tbody>\n    <tr>\n      <th>0</th>\n      <td>Pile_of_meds</td>\n      <td>8548.0</td>\n      <td>10685.000000</td>\n      <td>3065.952381</td>\n    </tr>\n    <tr>\n      <th>1</th>\n      <td>Combat_stimulant_injector_SJ6_TGLabs</td>\n      <td>11351.0</td>\n      <td>8012.470588</td>\n      <td>393.422969</td>\n    </tr>\n    <tr>\n      <th>3</th>\n      <td>Propital</td>\n      <td>2618.0</td>\n      <td>1365.913043</td>\n      <td>-6253.134576</td>\n    </tr>\n    <tr>\n      <th>4</th>\n      <td>ai-2_medikit</td>\n      <td>-563.0</td>\n      <td>-1535.454545</td>\n      <td>-9154.502165</td>\n    </tr>\n    <tr>\n      <th>5</th>\n      <td>CMS_kit</td>\n      <td>-1564.0</td>\n      <td>-1915.102041</td>\n      <td>-9534.149660</td>\n    </tr>\n    <tr>\n      <th>2</th>\n      <td>Portable_defibrillator</td>\n      <td>-23492.0</td>\n      <td>-4474.666667</td>\n      <td>-12093.714286</td>\n    </tr>\n    <tr>\n      <th>6</th>\n      <td>IFAK_personal_tactical_first_aid_kit</td>\n      <td>-4396.0</td>\n      <td>-5275.200000</td>\n      <td>-12894.247619</td>\n    </tr>\n    <tr>\n      <th>7</th>\n      <td>ledx_skin_transilluminator</td>\n      <td>-213641.0</td>\n      <td>-5494.410630</td>\n      <td>-13113.458249</td>\n    </tr>\n    <tr>\n      <th>8</th>\n      <td>m.u.l.e._stimulator</td>\n      <td>-16989.0</td>\n      <td>-11201.538462</td>\n      <td>-18820.586081</td>\n    </tr>\n    <tr>\n      <th>9</th>\n      <td>Combat_stimulant_injector_SJ1_TGLabs</td>\n      <td>-15928.0</td>\n      <td>-11514.216867</td>\n      <td>-19133.264487</td>\n    </tr>\n    <tr>\n      <th>10</th>\n      <td>antidote_xtg-12</td>\n      <td>-15066.0</td>\n      <td>-12913.714286</td>\n      <td>-20532.761905</td>\n    </tr>\n    <tr>\n      <th>11</th>\n      <td>afak_personal_tactical_first_aid_kit</td>\n      <td>-15631.0</td>\n      <td>-15631.000000</td>\n      <td>-23250.047619</td>\n    </tr>\n    <tr>\n      <th>12</th>\n      <td>Grizzly_First_Aid_Kit</td>\n      <td>-23261.0</td>\n      <td>-18608.800000</td>\n      <td>-26227.847619</td>\n    </tr>\n    <tr>\n      <th>13</th>\n      <td>Surv12_field_surgical_kit</td>\n      <td>-25882.0</td>\n      <td>-20433.157895</td>\n      <td>-28052.205514</td>\n    </tr>\n    <tr>\n      <th>14</th>\n      <td>Salewa_FIRST_AID_KIT</td>\n      <td>-17867.0</td>\n      <td>-27487.692308</td>\n      <td>-35106.739927</td>\n    </tr>\n    <tr>\n      <th>15</th>\n      <td>Morphine_injector</td>\n      <td>-33416.0</td>\n      <td>-27846.666667</td>\n      <td>-35465.714286</td>\n    </tr>\n    <tr>\n      <th>16</th>\n      <td>Vaseline</td>\n      <td>-47544.0</td>\n      <td>-51866.181818</td>\n      <td>-59485.229437</td>\n    </tr>\n    <tr>\n      <th>17</th>\n      <td>calok-b_hemostatic</td>\n      <td>-28394.0</td>\n      <td>-56788.000000</td>\n      <td>-64407.047619</td>\n    </tr>\n    <tr>\n      <th>18</th>\n      <td>Medical_bloodset</td>\n      <td>-55906.0</td>\n      <td>-124235.555556</td>\n      <td>-131854.603175</td>\n    </tr>\n  </tbody>\n</table>\n</div>"
     },
     "execution_count": 4,
     "metadata": {},
     "output_type": "execute_result"
    }
   ],
   "source": [
    "df"
   ],
   "metadata": {
    "collapsed": false,
    "pycharm": {
     "name": "#%%\n"
    }
   }
  },
  {
   "cell_type": "code",
   "execution_count": null,
   "outputs": [],
   "source": [],
   "metadata": {
    "collapsed": false,
    "pycharm": {
     "name": "#%%\n"
    }
   }
  }
 ],
 "metadata": {
  "kernelspec": {
   "display_name": "Python 3",
   "language": "python",
   "name": "python3"
  },
  "language_info": {
   "codemirror_mode": {
    "name": "ipython",
    "version": 2
   },
   "file_extension": ".py",
   "mimetype": "text/x-python",
   "name": "python",
   "nbconvert_exporter": "python",
   "pygments_lexer": "ipython2",
   "version": "2.7.6"
  }
 },
 "nbformat": 4,
 "nbformat_minor": 0
}