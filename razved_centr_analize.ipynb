{
 "cells": [
  {
   "cell_type": "code",
   "execution_count": 15,
   "metadata": {
    "collapsed": true
   },
   "outputs": [],
   "source": [
    "from selenium import webdriver\n",
    "\n",
    "import pandas as pd\n",
    "from utils import *\n",
    "import numpy as np\n",
    "import requests\n",
    "from bs4 import BeautifulSoup\n",
    "from analizer_bind import *"
   ]
  },
  {
   "cell_type": "code",
   "execution_count": 16,
   "outputs": [
    {
     "name": "stdout",
     "output_type": "stream",
     "text": [
      "The autoreload extension is already loaded. To reload it, use:\n",
      "  %reload_ext autoreload\n"
     ]
    }
   ],
   "source": [
    "%load_ext autoreload\n",
    "%autoreload 2"
   ],
   "metadata": {
    "collapsed": false,
    "pycharm": {
     "name": "#%%\n"
    }
   }
  },
  {
   "cell_type": "code",
   "execution_count": 17,
   "outputs": [
    {
     "name": "stdout",
     "output_type": "stream",
     "text": [
      "recipes loaded:  9\n",
      "Fuel price:  160000.0\n"
     ]
    }
   ],
   "source": [
    "df, crafts = analize_crafts(\"Разведцентр\")"
   ],
   "metadata": {
    "collapsed": false,
    "pycharm": {
     "name": "#%%\n"
    }
   }
  },
  {
   "cell_type": "code",
   "execution_count": 18,
   "outputs": [
    {
     "data": {
      "text/plain": "                                         Name    income     income/h  \\\n8                         lab._violet_keycard  429251.0  3246.572545   \n0                    folder_with_intelligence   78898.0  2491.515789   \n1                          secure_flash_drive   40062.0  1170.832927   \n2                    VPX_Flash_Storage_Module   33304.0   532.864000   \n4                             UHF_RFID_Reader   22850.0   428.437500   \n3                               graphics_card  -43988.0  -453.796424   \n5  Military_COFDM_wireless_Signal_Transmitter  -82427.0 -2119.854265   \n6                         object_11sr_keycard -208896.0 -3186.819222   \n7               Virtex_programmable_processor -125439.0 -3336.143617   \n\n   income/h w fuel  \n8     -4372.475074  \n0     -5127.531830  \n1     -6448.214692  \n2     -7086.183619  \n4     -7190.610119  \n3     -8072.844043  \n5     -9738.901884  \n6    -10805.866841  \n7    -10955.191236  ",
      "text/html": "<div>\n<style scoped>\n    .dataframe tbody tr th:only-of-type {\n        vertical-align: middle;\n    }\n\n    .dataframe tbody tr th {\n        vertical-align: top;\n    }\n\n    .dataframe thead th {\n        text-align: right;\n    }\n</style>\n<table border=\"1\" class=\"dataframe\">\n  <thead>\n    <tr style=\"text-align: right;\">\n      <th></th>\n      <th>Name</th>\n      <th>income</th>\n      <th>income/h</th>\n      <th>income/h w fuel</th>\n    </tr>\n  </thead>\n  <tbody>\n    <tr>\n      <th>8</th>\n      <td>lab._violet_keycard</td>\n      <td>429251.0</td>\n      <td>3246.572545</td>\n      <td>-4372.475074</td>\n    </tr>\n    <tr>\n      <th>0</th>\n      <td>folder_with_intelligence</td>\n      <td>78898.0</td>\n      <td>2491.515789</td>\n      <td>-5127.531830</td>\n    </tr>\n    <tr>\n      <th>1</th>\n      <td>secure_flash_drive</td>\n      <td>40062.0</td>\n      <td>1170.832927</td>\n      <td>-6448.214692</td>\n    </tr>\n    <tr>\n      <th>2</th>\n      <td>VPX_Flash_Storage_Module</td>\n      <td>33304.0</td>\n      <td>532.864000</td>\n      <td>-7086.183619</td>\n    </tr>\n    <tr>\n      <th>4</th>\n      <td>UHF_RFID_Reader</td>\n      <td>22850.0</td>\n      <td>428.437500</td>\n      <td>-7190.610119</td>\n    </tr>\n    <tr>\n      <th>3</th>\n      <td>graphics_card</td>\n      <td>-43988.0</td>\n      <td>-453.796424</td>\n      <td>-8072.844043</td>\n    </tr>\n    <tr>\n      <th>5</th>\n      <td>Military_COFDM_wireless_Signal_Transmitter</td>\n      <td>-82427.0</td>\n      <td>-2119.854265</td>\n      <td>-9738.901884</td>\n    </tr>\n    <tr>\n      <th>6</th>\n      <td>object_11sr_keycard</td>\n      <td>-208896.0</td>\n      <td>-3186.819222</td>\n      <td>-10805.866841</td>\n    </tr>\n    <tr>\n      <th>7</th>\n      <td>Virtex_programmable_processor</td>\n      <td>-125439.0</td>\n      <td>-3336.143617</td>\n      <td>-10955.191236</td>\n    </tr>\n  </tbody>\n</table>\n</div>"
     },
     "execution_count": 18,
     "metadata": {},
     "output_type": "execute_result"
    }
   ],
   "source": [
    "df"
   ],
   "metadata": {
    "collapsed": false,
    "pycharm": {
     "name": "#%%\n"
    }
   }
  },
  {
   "cell_type": "code",
   "execution_count": null,
   "outputs": [],
   "source": [],
   "metadata": {
    "collapsed": false,
    "pycharm": {
     "name": "#%%\n"
    }
   }
  }
 ],
 "metadata": {
  "kernelspec": {
   "display_name": "Python 3",
   "language": "python",
   "name": "python3"
  },
  "language_info": {
   "codemirror_mode": {
    "name": "ipython",
    "version": 2
   },
   "file_extension": ".py",
   "mimetype": "text/x-python",
   "name": "python",
   "nbconvert_exporter": "python",
   "pygments_lexer": "ipython2",
   "version": "2.7.6"
  }
 },
 "nbformat": 4,
 "nbformat_minor": 0
}