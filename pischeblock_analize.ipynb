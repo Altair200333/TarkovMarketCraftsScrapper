{
 "cells": [
  {
   "cell_type": "code",
   "execution_count": 1,
   "metadata": {
    "collapsed": true
   },
   "outputs": [],
   "source": [
    "from selenium import webdriver\n",
    "\n",
    "import pandas as pd\n",
    "from utils import *\n",
    "import numpy as np\n",
    "import requests\n",
    "from bs4 import BeautifulSoup\n",
    "from analizer_bind import *"
   ]
  },
  {
   "cell_type": "code",
   "execution_count": 2,
   "outputs": [],
   "source": [
    "%load_ext autoreload\n",
    "%autoreload 2"
   ],
   "metadata": {
    "collapsed": false,
    "pycharm": {
     "name": "#%%\n"
    }
   }
  },
  {
   "cell_type": "code",
   "execution_count": 3,
   "outputs": [
    {
     "name": "stdout",
     "output_type": "stream",
     "text": [
      "recipes loaded:  14\n",
      "Fuel price:  160000.0\n"
     ]
    }
   ],
   "source": [
    "df, crafts = analize_crafts(\"Пищеблок\")"
   ],
   "metadata": {
    "collapsed": false,
    "pycharm": {
     "name": "#%%\n"
    }
   }
  },
  {
   "cell_type": "code",
   "execution_count": 4,
   "outputs": [
    {
     "data": {
      "text/plain": "                                             Name    income      income/h  \\\n0                                         Hot_Rod  -18898.0  -2357.338877   \n1                              Wilston_cigarettes   -5847.0  -3473.465347   \n2                                      Max_energy  -10713.0  -5951.666667   \n3                                    Slickers_bar   -8887.0  -7510.140845   \n4                          emergency_water_ration   -9367.0  -8515.454545   \n5                                Can_of_beef_stew  -11858.0  -9121.538462   \n6                               0.6L_water_bottle  -22084.0 -12045.818182   \n7                                   Pack_of_sugar  -21906.0 -15835.662651   \n8             Water_bottle_with_a_filter_Aquamari  -79136.0 -16316.701031   \n9                   Bottle_of_Dan_Jackiel_Whiskey  -31378.0 -17761.132075   \n10                                Iskra_lunch_box  -17004.0 -21255.000000   \n11                                 Condensed_milk  -53123.0 -39350.370370   \n12  premium_kvass_norvinskiy_yadreniy_0.6l_bottle  -68580.0 -65314.285714   \n13                    Bottle_of_vodka_Tarkovskaya -132458.0 -83657.684211   \n\n    income/h w fuel  \n0      -9976.386496  \n1     -11092.512966  \n2     -13570.714286  \n3     -15129.188464  \n4     -16134.502165  \n5     -16740.586081  \n6     -19664.865801  \n7     -23454.710270  \n8     -23935.748650  \n9     -25380.179695  \n10    -28874.047619  \n11    -46969.417989  \n12    -72933.333333  \n13    -91276.731830  ",
      "text/html": "<div>\n<style scoped>\n    .dataframe tbody tr th:only-of-type {\n        vertical-align: middle;\n    }\n\n    .dataframe tbody tr th {\n        vertical-align: top;\n    }\n\n    .dataframe thead th {\n        text-align: right;\n    }\n</style>\n<table border=\"1\" class=\"dataframe\">\n  <thead>\n    <tr style=\"text-align: right;\">\n      <th></th>\n      <th>Name</th>\n      <th>income</th>\n      <th>income/h</th>\n      <th>income/h w fuel</th>\n    </tr>\n  </thead>\n  <tbody>\n    <tr>\n      <th>0</th>\n      <td>Hot_Rod</td>\n      <td>-18898.0</td>\n      <td>-2357.338877</td>\n      <td>-9976.386496</td>\n    </tr>\n    <tr>\n      <th>1</th>\n      <td>Wilston_cigarettes</td>\n      <td>-5847.0</td>\n      <td>-3473.465347</td>\n      <td>-11092.512966</td>\n    </tr>\n    <tr>\n      <th>2</th>\n      <td>Max_energy</td>\n      <td>-10713.0</td>\n      <td>-5951.666667</td>\n      <td>-13570.714286</td>\n    </tr>\n    <tr>\n      <th>3</th>\n      <td>Slickers_bar</td>\n      <td>-8887.0</td>\n      <td>-7510.140845</td>\n      <td>-15129.188464</td>\n    </tr>\n    <tr>\n      <th>4</th>\n      <td>emergency_water_ration</td>\n      <td>-9367.0</td>\n      <td>-8515.454545</td>\n      <td>-16134.502165</td>\n    </tr>\n    <tr>\n      <th>5</th>\n      <td>Can_of_beef_stew</td>\n      <td>-11858.0</td>\n      <td>-9121.538462</td>\n      <td>-16740.586081</td>\n    </tr>\n    <tr>\n      <th>6</th>\n      <td>0.6L_water_bottle</td>\n      <td>-22084.0</td>\n      <td>-12045.818182</td>\n      <td>-19664.865801</td>\n    </tr>\n    <tr>\n      <th>7</th>\n      <td>Pack_of_sugar</td>\n      <td>-21906.0</td>\n      <td>-15835.662651</td>\n      <td>-23454.710270</td>\n    </tr>\n    <tr>\n      <th>8</th>\n      <td>Water_bottle_with_a_filter_Aquamari</td>\n      <td>-79136.0</td>\n      <td>-16316.701031</td>\n      <td>-23935.748650</td>\n    </tr>\n    <tr>\n      <th>9</th>\n      <td>Bottle_of_Dan_Jackiel_Whiskey</td>\n      <td>-31378.0</td>\n      <td>-17761.132075</td>\n      <td>-25380.179695</td>\n    </tr>\n    <tr>\n      <th>10</th>\n      <td>Iskra_lunch_box</td>\n      <td>-17004.0</td>\n      <td>-21255.000000</td>\n      <td>-28874.047619</td>\n    </tr>\n    <tr>\n      <th>11</th>\n      <td>Condensed_milk</td>\n      <td>-53123.0</td>\n      <td>-39350.370370</td>\n      <td>-46969.417989</td>\n    </tr>\n    <tr>\n      <th>12</th>\n      <td>premium_kvass_norvinskiy_yadreniy_0.6l_bottle</td>\n      <td>-68580.0</td>\n      <td>-65314.285714</td>\n      <td>-72933.333333</td>\n    </tr>\n    <tr>\n      <th>13</th>\n      <td>Bottle_of_vodka_Tarkovskaya</td>\n      <td>-132458.0</td>\n      <td>-83657.684211</td>\n      <td>-91276.731830</td>\n    </tr>\n  </tbody>\n</table>\n</div>"
     },
     "execution_count": 4,
     "metadata": {},
     "output_type": "execute_result"
    }
   ],
   "source": [
    "df"
   ],
   "metadata": {
    "collapsed": false,
    "pycharm": {
     "name": "#%%\n"
    }
   }
  },
  {
   "cell_type": "code",
   "execution_count": null,
   "outputs": [],
   "source": [],
   "metadata": {
    "collapsed": false,
    "pycharm": {
     "name": "#%%\n"
    }
   }
  }
 ],
 "metadata": {
  "kernelspec": {
   "display_name": "Python 3",
   "language": "python",
   "name": "python3"
  },
  "language_info": {
   "codemirror_mode": {
    "name": "ipython",
    "version": 2
   },
   "file_extension": ".py",
   "mimetype": "text/x-python",
   "name": "python",
   "nbconvert_exporter": "python",
   "pygments_lexer": "ipython2",
   "version": "2.7.6"
  }
 },
 "nbformat": 4,
 "nbformat_minor": 0
}