{
 "cells": [
  {
   "cell_type": "code",
   "execution_count": 1,
   "outputs": [],
   "source": [
    "from selenium import webdriver\n",
    "\n",
    "import pandas as pd\n",
    "from utils import *\n",
    "import numpy as np\n",
    "import requests\n",
    "from bs4 import BeautifulSoup\n",
    "from analizer_bind import *"
   ],
   "metadata": {
    "collapsed": false,
    "pycharm": {
     "name": "#%%\n"
    }
   }
  },
  {
   "cell_type": "code",
   "execution_count": 2,
   "outputs": [],
   "source": [
    "%load_ext autoreload\n",
    "%autoreload 2"
   ],
   "metadata": {
    "collapsed": false,
    "pycharm": {
     "name": "#%%\n"
    }
   }
  },
  {
   "cell_type": "code",
   "execution_count": 5,
   "outputs": [
    {
     "name": "stdout",
     "output_type": "stream",
     "text": [
      "recipes loaded:  33\n"
     ]
    }
   ],
   "source": [
    "df, crafts = analize_crafts(\"Санузел\", False)"
   ],
   "metadata": {
    "collapsed": false,
    "pycharm": {
     "name": "#%%\n"
    }
   }
  },
  {
   "cell_type": "code",
   "execution_count": 6,
   "outputs": [
    {
     "data": {
      "text/plain": "                                                 Name    income       income/h\n0                                     Schaman_shampoo    9456.0   16210.285714\n1                                           Ox_bleach    8553.0   13504.736842\n2                            polyamide_fabric_cordura    3784.0    4730.000000\n3                                     aseptic_bandage    1692.0    3274.838710\n4                                  aramid_fiber_cloth     968.0    1760.000000\n5                                       Scav_Backpack   -2179.0   -2377.090909\n7                                  lucky_scav_junkbox  -51463.0   -5984.069767\n8                                        Water_filter  -60862.0   -6158.043845\n6                                        grenade_case -123822.0   -7429.320000\n9                                         WD-40_100ml  -27192.0  -10876.800000\n10                                    corrugated_hose  -41144.0  -12281.791045\n11                             fp-100_filter_absorber  -33510.0  -12888.461538\n12                                      magazine_case  -67296.0  -13827.945205\n13                                  kektape_duct_tape  -23666.0  -17749.500000\n14                           Pilgrim_tourist_backpack  -51767.0  -19055.337423\n15                                BlackRock_chest_rig  -20712.0  -20712.000000\n16  60-round_6l31_5.45x39_magazine_for_ak-74_and_c...  -34203.0  -24725.060241\n17                                  LZSh_light_helmet  -34844.0  -25188.433735\n18                               6SH118_raid_backpack -135116.0  -25654.936709\n19                                           Paracord -113397.0  -26371.395349\n20         Velocity_Systems_Multi-Purpose_Patrol_Vest  -60383.0  -27869.076923\n21                                Immobilizing_splint  -35553.0  -40248.679245\n24                               splav_tarzan_m22_rig  -33173.0  -43269.130435\n23                                      ripstop_cloth  -26808.0  -44680.000000\n22                                       Toilet_paper  -20480.0  -47261.538462\n25                           polyamide_fabric_cordura  -28216.0  -48370.285714\n26                                         Clin_wiper  -38049.0  -57073.500000\n28                                       fleece_cloth  -41494.0  -57898.604651\n27                                    PACA_Soft_Armor  -70633.0  -58054.520548\n29                                       army_bandage  -17404.0  -65265.000000\n30                                Module-3M_bodyarmor  -63119.0  -70132.222222\n31                            Expeditionary_fuel_tank  -72685.0  -70340.322581\n32                            Air_filter_for_gas_mask   -3831.0 -114930.000000",
      "text/html": "<div>\n<style scoped>\n    .dataframe tbody tr th:only-of-type {\n        vertical-align: middle;\n    }\n\n    .dataframe tbody tr th {\n        vertical-align: top;\n    }\n\n    .dataframe thead th {\n        text-align: right;\n    }\n</style>\n<table border=\"1\" class=\"dataframe\">\n  <thead>\n    <tr style=\"text-align: right;\">\n      <th></th>\n      <th>Name</th>\n      <th>income</th>\n      <th>income/h</th>\n    </tr>\n  </thead>\n  <tbody>\n    <tr>\n      <th>0</th>\n      <td>Schaman_shampoo</td>\n      <td>9456.0</td>\n      <td>16210.285714</td>\n    </tr>\n    <tr>\n      <th>1</th>\n      <td>Ox_bleach</td>\n      <td>8553.0</td>\n      <td>13504.736842</td>\n    </tr>\n    <tr>\n      <th>2</th>\n      <td>polyamide_fabric_cordura</td>\n      <td>3784.0</td>\n      <td>4730.000000</td>\n    </tr>\n    <tr>\n      <th>3</th>\n      <td>aseptic_bandage</td>\n      <td>1692.0</td>\n      <td>3274.838710</td>\n    </tr>\n    <tr>\n      <th>4</th>\n      <td>aramid_fiber_cloth</td>\n      <td>968.0</td>\n      <td>1760.000000</td>\n    </tr>\n    <tr>\n      <th>5</th>\n      <td>Scav_Backpack</td>\n      <td>-2179.0</td>\n      <td>-2377.090909</td>\n    </tr>\n    <tr>\n      <th>7</th>\n      <td>lucky_scav_junkbox</td>\n      <td>-51463.0</td>\n      <td>-5984.069767</td>\n    </tr>\n    <tr>\n      <th>8</th>\n      <td>Water_filter</td>\n      <td>-60862.0</td>\n      <td>-6158.043845</td>\n    </tr>\n    <tr>\n      <th>6</th>\n      <td>grenade_case</td>\n      <td>-123822.0</td>\n      <td>-7429.320000</td>\n    </tr>\n    <tr>\n      <th>9</th>\n      <td>WD-40_100ml</td>\n      <td>-27192.0</td>\n      <td>-10876.800000</td>\n    </tr>\n    <tr>\n      <th>10</th>\n      <td>corrugated_hose</td>\n      <td>-41144.0</td>\n      <td>-12281.791045</td>\n    </tr>\n    <tr>\n      <th>11</th>\n      <td>fp-100_filter_absorber</td>\n      <td>-33510.0</td>\n      <td>-12888.461538</td>\n    </tr>\n    <tr>\n      <th>12</th>\n      <td>magazine_case</td>\n      <td>-67296.0</td>\n      <td>-13827.945205</td>\n    </tr>\n    <tr>\n      <th>13</th>\n      <td>kektape_duct_tape</td>\n      <td>-23666.0</td>\n      <td>-17749.500000</td>\n    </tr>\n    <tr>\n      <th>14</th>\n      <td>Pilgrim_tourist_backpack</td>\n      <td>-51767.0</td>\n      <td>-19055.337423</td>\n    </tr>\n    <tr>\n      <th>15</th>\n      <td>BlackRock_chest_rig</td>\n      <td>-20712.0</td>\n      <td>-20712.000000</td>\n    </tr>\n    <tr>\n      <th>16</th>\n      <td>60-round_6l31_5.45x39_magazine_for_ak-74_and_c...</td>\n      <td>-34203.0</td>\n      <td>-24725.060241</td>\n    </tr>\n    <tr>\n      <th>17</th>\n      <td>LZSh_light_helmet</td>\n      <td>-34844.0</td>\n      <td>-25188.433735</td>\n    </tr>\n    <tr>\n      <th>18</th>\n      <td>6SH118_raid_backpack</td>\n      <td>-135116.0</td>\n      <td>-25654.936709</td>\n    </tr>\n    <tr>\n      <th>19</th>\n      <td>Paracord</td>\n      <td>-113397.0</td>\n      <td>-26371.395349</td>\n    </tr>\n    <tr>\n      <th>20</th>\n      <td>Velocity_Systems_Multi-Purpose_Patrol_Vest</td>\n      <td>-60383.0</td>\n      <td>-27869.076923</td>\n    </tr>\n    <tr>\n      <th>21</th>\n      <td>Immobilizing_splint</td>\n      <td>-35553.0</td>\n      <td>-40248.679245</td>\n    </tr>\n    <tr>\n      <th>24</th>\n      <td>splav_tarzan_m22_rig</td>\n      <td>-33173.0</td>\n      <td>-43269.130435</td>\n    </tr>\n    <tr>\n      <th>23</th>\n      <td>ripstop_cloth</td>\n      <td>-26808.0</td>\n      <td>-44680.000000</td>\n    </tr>\n    <tr>\n      <th>22</th>\n      <td>Toilet_paper</td>\n      <td>-20480.0</td>\n      <td>-47261.538462</td>\n    </tr>\n    <tr>\n      <th>25</th>\n      <td>polyamide_fabric_cordura</td>\n      <td>-28216.0</td>\n      <td>-48370.285714</td>\n    </tr>\n    <tr>\n      <th>26</th>\n      <td>Clin_wiper</td>\n      <td>-38049.0</td>\n      <td>-57073.500000</td>\n    </tr>\n    <tr>\n      <th>28</th>\n      <td>fleece_cloth</td>\n      <td>-41494.0</td>\n      <td>-57898.604651</td>\n    </tr>\n    <tr>\n      <th>27</th>\n      <td>PACA_Soft_Armor</td>\n      <td>-70633.0</td>\n      <td>-58054.520548</td>\n    </tr>\n    <tr>\n      <th>29</th>\n      <td>army_bandage</td>\n      <td>-17404.0</td>\n      <td>-65265.000000</td>\n    </tr>\n    <tr>\n      <th>30</th>\n      <td>Module-3M_bodyarmor</td>\n      <td>-63119.0</td>\n      <td>-70132.222222</td>\n    </tr>\n    <tr>\n      <th>31</th>\n      <td>Expeditionary_fuel_tank</td>\n      <td>-72685.0</td>\n      <td>-70340.322581</td>\n    </tr>\n    <tr>\n      <th>32</th>\n      <td>Air_filter_for_gas_mask</td>\n      <td>-3831.0</td>\n      <td>-114930.000000</td>\n    </tr>\n  </tbody>\n</table>\n</div>"
     },
     "execution_count": 6,
     "metadata": {},
     "output_type": "execute_result"
    }
   ],
   "source": [
    "df"
   ],
   "metadata": {
    "collapsed": false,
    "pycharm": {
     "name": "#%%\n"
    }
   }
  },
  {
   "cell_type": "code",
   "execution_count": null,
   "outputs": [],
   "source": [],
   "metadata": {
    "collapsed": false,
    "pycharm": {
     "name": "#%%\n"
    }
   }
  }
 ],
 "metadata": {
  "kernelspec": {
   "display_name": "Python 3",
   "language": "python",
   "name": "python3"
  },
  "language_info": {
   "codemirror_mode": {
    "name": "ipython",
    "version": 2
   },
   "file_extension": ".py",
   "mimetype": "text/x-python",
   "name": "python",
   "nbconvert_exporter": "python",
   "pygments_lexer": "ipython2",
   "version": "2.7.6"
  }
 },
 "nbformat": 4,
 "nbformat_minor": 0
}