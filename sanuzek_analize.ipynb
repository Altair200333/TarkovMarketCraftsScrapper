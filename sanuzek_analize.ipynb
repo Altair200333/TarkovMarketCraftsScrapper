{
 "cells": [
  {
   "cell_type": "code",
   "execution_count": 1,
   "metadata": {
    "collapsed": true
   },
   "outputs": [],
   "source": [
    "% load_ext autoreload\n",
    "% autoreload 2"
   ]
  },
  {
   "cell_type": "code",
   "execution_count": 9,
   "outputs": [],
   "source": [
    "from selenium import webdriver\n",
    "\n",
    "import pandas as pd\n",
    "from utils import *\n",
    "import numpy as np\n",
    "import requests\n",
    "from bs4 import BeautifulSoup"
   ],
   "metadata": {
    "collapsed": false,
    "pycharm": {
     "name": "#%%\n"
    }
   }
  },
  {
   "cell_type": "code",
   "execution_count": 38,
   "outputs": [
    {
     "name": "stderr",
     "output_type": "stream",
     "text": [
      "C:\\Users\\Neo\\AppData\\Local\\Temp/ipykernel_28500/3181095831.py:7: DeprecationWarning: executable_path has been deprecated, please pass in a Service object\n",
      "  driver = webdriver.Chrome(\"C:\\Projects\\chromedriver.exe\", chrome_options=options)\n",
      "C:\\Users\\Neo\\AppData\\Local\\Temp/ipykernel_28500/3181095831.py:7: DeprecationWarning: use options instead of chrome_options\n",
      "  driver = webdriver.Chrome(\"C:\\Projects\\chromedriver.exe\", chrome_options=options)\n"
     ]
    }
   ],
   "source": [
    "options = webdriver.ChromeOptions()\n",
    "\n",
    "options.add_argument('--ignore-certificate-errors')\n",
    "options.add_argument('--incognito')\n",
    "#options.add_argument('--headless')\n",
    "\n",
    "driver = webdriver.Chrome(\"C:\\Projects\\chromedriver.exe\", chrome_options=options)"
   ],
   "metadata": {
    "collapsed": false,
    "pycharm": {
     "name": "#%%\n"
    }
   }
  },
  {
   "cell_type": "code",
   "execution_count": 4,
   "outputs": [],
   "source": [
    "get_full_page(driver, \"Санузел\")"
   ],
   "metadata": {
    "collapsed": false,
    "pycharm": {
     "name": "#%%\n"
    }
   }
  },
  {
   "cell_type": "code",
   "execution_count": 5,
   "outputs": [
    {
     "name": "stdout",
     "output_type": "stream",
     "text": [
      "33\n"
     ]
    }
   ],
   "source": [
    "soup = BeautifulSoup(driver.page_source, \"html.parser\")\n",
    "recipes = soup.find_all(\"div\", {\"class\": \"row recipe\"})\n",
    "print(len(recipes))"
   ],
   "metadata": {
    "collapsed": false,
    "pycharm": {
     "name": "#%%\n"
    }
   }
  },
  {
   "cell_type": "code",
   "execution_count": 6,
   "outputs": [],
   "source": [
    "crafts = []\n",
    "for i in range(len(recipes)):\n",
    "    rec = get_recipe(recipes[i])\n",
    "    crafts.append(rec)"
   ],
   "metadata": {
    "collapsed": false,
    "pycharm": {
     "name": "#%%\n"
    }
   }
  },
  {
   "cell_type": "code",
   "execution_count": 7,
   "outputs": [
    {
     "data": {
      "text/plain": "33"
     },
     "execution_count": 7,
     "metadata": {},
     "output_type": "execute_result"
    }
   ],
   "source": [
    "len(crafts)"
   ],
   "metadata": {
    "collapsed": false,
    "pycharm": {
     "name": "#%%\n"
    }
   }
  },
  {
   "cell_type": "code",
   "execution_count": 33,
   "outputs": [
    {
     "data": {
      "text/plain": "                                                 Name    income       income/h\n0                                     Schaman_shampoo    7016.0   12027.428571\n5                                           Ox_bleach    6655.0   10507.894737\n7                                     aseptic_bandage    2579.0    4991.612903\n4                                       Scav_Backpack    3392.0    3700.363636\n3                            polyamide_fabric_cordura    1991.0    2488.750000\n8                                        grenade_case  -42923.0   -2575.380000\n9                                  lucky_scav_junkbox  -39157.0   -4553.139535\n12                                       Water_filter  -51141.0   -5174.468803\n13                                      magazine_case  -28620.0   -5880.821918\n17                                        WD-40_100ml  -27190.0  -10876.000000\n16                             fp-100_filter_absorber  -28688.0  -11033.846154\n15                                    corrugated_hose  -38805.0  -11583.582090\n18                                  LZSh_light_helmet  -17809.0  -12873.975904\n22                                Immobilizing_splint  -12359.0  -13991.320755\n2                                        army_bandage   -3751.0  -14066.250000\n1                                       ripstop_cloth   -9340.0  -15566.666667\n11                                 aramid_fiber_cloth   -8742.0  -15894.545455\n21                                           Paracord  -70502.0  -16395.813953\n6                                 BlackRock_chest_rig  -17466.0  -17466.000000\n20                           Pilgrim_tourist_backpack  -49807.0  -18333.865031\n23                                  kektape_duct_tape  -26820.0  -20115.000000\n25         Velocity_Systems_Multi-Purpose_Patrol_Vest  -52681.0  -24314.307692\n14  60-round_6l31_5.45x39_magazine_for_ak-74_and_c...  -34046.0  -24611.566265\n24                               6SH118_raid_backpack -146900.0  -27892.405063\n29                                       Toilet_paper  -17498.0  -40380.000000\n10                                       fleece_cloth  -29259.0  -40826.511628\n27                                    PACA_Soft_Armor  -57920.0  -47605.479452\n19                               splav_tarzan_m22_rig  -36619.0  -47763.913043\n26                                         Clin_wiper  -31940.0  -47910.000000\n28                                Module-3M_bodyarmor  -50108.0  -55675.555556\n30                           polyamide_fabric_cordura  -46469.0  -79661.142857\n31                            Expeditionary_fuel_tank -280934.0 -271871.612903\n32                            Air_filter_for_gas_mask  -16234.0 -487020.000000",
      "text/html": "<div>\n<style scoped>\n    .dataframe tbody tr th:only-of-type {\n        vertical-align: middle;\n    }\n\n    .dataframe tbody tr th {\n        vertical-align: top;\n    }\n\n    .dataframe thead th {\n        text-align: right;\n    }\n</style>\n<table border=\"1\" class=\"dataframe\">\n  <thead>\n    <tr style=\"text-align: right;\">\n      <th></th>\n      <th>Name</th>\n      <th>income</th>\n      <th>income/h</th>\n    </tr>\n  </thead>\n  <tbody>\n    <tr>\n      <th>0</th>\n      <td>Schaman_shampoo</td>\n      <td>7016.0</td>\n      <td>12027.428571</td>\n    </tr>\n    <tr>\n      <th>5</th>\n      <td>Ox_bleach</td>\n      <td>6655.0</td>\n      <td>10507.894737</td>\n    </tr>\n    <tr>\n      <th>7</th>\n      <td>aseptic_bandage</td>\n      <td>2579.0</td>\n      <td>4991.612903</td>\n    </tr>\n    <tr>\n      <th>4</th>\n      <td>Scav_Backpack</td>\n      <td>3392.0</td>\n      <td>3700.363636</td>\n    </tr>\n    <tr>\n      <th>3</th>\n      <td>polyamide_fabric_cordura</td>\n      <td>1991.0</td>\n      <td>2488.750000</td>\n    </tr>\n    <tr>\n      <th>8</th>\n      <td>grenade_case</td>\n      <td>-42923.0</td>\n      <td>-2575.380000</td>\n    </tr>\n    <tr>\n      <th>9</th>\n      <td>lucky_scav_junkbox</td>\n      <td>-39157.0</td>\n      <td>-4553.139535</td>\n    </tr>\n    <tr>\n      <th>12</th>\n      <td>Water_filter</td>\n      <td>-51141.0</td>\n      <td>-5174.468803</td>\n    </tr>\n    <tr>\n      <th>13</th>\n      <td>magazine_case</td>\n      <td>-28620.0</td>\n      <td>-5880.821918</td>\n    </tr>\n    <tr>\n      <th>17</th>\n      <td>WD-40_100ml</td>\n      <td>-27190.0</td>\n      <td>-10876.000000</td>\n    </tr>\n    <tr>\n      <th>16</th>\n      <td>fp-100_filter_absorber</td>\n      <td>-28688.0</td>\n      <td>-11033.846154</td>\n    </tr>\n    <tr>\n      <th>15</th>\n      <td>corrugated_hose</td>\n      <td>-38805.0</td>\n      <td>-11583.582090</td>\n    </tr>\n    <tr>\n      <th>18</th>\n      <td>LZSh_light_helmet</td>\n      <td>-17809.0</td>\n      <td>-12873.975904</td>\n    </tr>\n    <tr>\n      <th>22</th>\n      <td>Immobilizing_splint</td>\n      <td>-12359.0</td>\n      <td>-13991.320755</td>\n    </tr>\n    <tr>\n      <th>2</th>\n      <td>army_bandage</td>\n      <td>-3751.0</td>\n      <td>-14066.250000</td>\n    </tr>\n    <tr>\n      <th>1</th>\n      <td>ripstop_cloth</td>\n      <td>-9340.0</td>\n      <td>-15566.666667</td>\n    </tr>\n    <tr>\n      <th>11</th>\n      <td>aramid_fiber_cloth</td>\n      <td>-8742.0</td>\n      <td>-15894.545455</td>\n    </tr>\n    <tr>\n      <th>21</th>\n      <td>Paracord</td>\n      <td>-70502.0</td>\n      <td>-16395.813953</td>\n    </tr>\n    <tr>\n      <th>6</th>\n      <td>BlackRock_chest_rig</td>\n      <td>-17466.0</td>\n      <td>-17466.000000</td>\n    </tr>\n    <tr>\n      <th>20</th>\n      <td>Pilgrim_tourist_backpack</td>\n      <td>-49807.0</td>\n      <td>-18333.865031</td>\n    </tr>\n    <tr>\n      <th>23</th>\n      <td>kektape_duct_tape</td>\n      <td>-26820.0</td>\n      <td>-20115.000000</td>\n    </tr>\n    <tr>\n      <th>25</th>\n      <td>Velocity_Systems_Multi-Purpose_Patrol_Vest</td>\n      <td>-52681.0</td>\n      <td>-24314.307692</td>\n    </tr>\n    <tr>\n      <th>14</th>\n      <td>60-round_6l31_5.45x39_magazine_for_ak-74_and_c...</td>\n      <td>-34046.0</td>\n      <td>-24611.566265</td>\n    </tr>\n    <tr>\n      <th>24</th>\n      <td>6SH118_raid_backpack</td>\n      <td>-146900.0</td>\n      <td>-27892.405063</td>\n    </tr>\n    <tr>\n      <th>29</th>\n      <td>Toilet_paper</td>\n      <td>-17498.0</td>\n      <td>-40380.000000</td>\n    </tr>\n    <tr>\n      <th>10</th>\n      <td>fleece_cloth</td>\n      <td>-29259.0</td>\n      <td>-40826.511628</td>\n    </tr>\n    <tr>\n      <th>27</th>\n      <td>PACA_Soft_Armor</td>\n      <td>-57920.0</td>\n      <td>-47605.479452</td>\n    </tr>\n    <tr>\n      <th>19</th>\n      <td>splav_tarzan_m22_rig</td>\n      <td>-36619.0</td>\n      <td>-47763.913043</td>\n    </tr>\n    <tr>\n      <th>26</th>\n      <td>Clin_wiper</td>\n      <td>-31940.0</td>\n      <td>-47910.000000</td>\n    </tr>\n    <tr>\n      <th>28</th>\n      <td>Module-3M_bodyarmor</td>\n      <td>-50108.0</td>\n      <td>-55675.555556</td>\n    </tr>\n    <tr>\n      <th>30</th>\n      <td>polyamide_fabric_cordura</td>\n      <td>-46469.0</td>\n      <td>-79661.142857</td>\n    </tr>\n    <tr>\n      <th>31</th>\n      <td>Expeditionary_fuel_tank</td>\n      <td>-280934.0</td>\n      <td>-271871.612903</td>\n    </tr>\n    <tr>\n      <th>32</th>\n      <td>Air_filter_for_gas_mask</td>\n      <td>-16234.0</td>\n      <td>-487020.000000</td>\n    </tr>\n  </tbody>\n</table>\n</div>"
     },
     "execution_count": 33,
     "metadata": {},
     "output_type": "execute_result"
    }
   ],
   "source": [
    "df = get_df(crafts)\n",
    "df.sort_values(by=['income/h'], ascending=False)"
   ],
   "metadata": {
    "collapsed": false,
    "pycharm": {
     "name": "#%%\n"
    }
   }
  },
  {
   "cell_type": "code",
   "execution_count": 40,
   "outputs": [],
   "source": [
    "get_full_page(driver, \"Верстак\")"
   ],
   "metadata": {
    "collapsed": false,
    "pycharm": {
     "name": "#%%\n"
    }
   }
  },
  {
   "cell_type": "code",
   "execution_count": 41,
   "outputs": [
    {
     "name": "stdout",
     "output_type": "stream",
     "text": [
      "56\n"
     ]
    }
   ],
   "source": [
    "soup = BeautifulSoup(driver.page_source, \"html.parser\")\n",
    "recipes = soup.find_all(\"div\", {\"class\": \"row recipe\"})\n",
    "print(len(recipes))"
   ],
   "metadata": {
    "collapsed": false,
    "pycharm": {
     "name": "#%%\n"
    }
   }
  },
  {
   "cell_type": "code",
   "execution_count": 42,
   "outputs": [],
   "source": [
    "crafts = []\n",
    "for i in range(len(recipes)):\n",
    "    rec = get_recipe(recipes[i])\n",
    "    crafts.append(rec)"
   ],
   "metadata": {
    "collapsed": false,
    "pycharm": {
     "name": "#%%\n"
    }
   }
  },
  {
   "cell_type": "code",
   "execution_count": 45,
   "outputs": [
    {
     "data": {
      "text/plain": "                                               Name     income       income/h\n3                          vog-25_khattabka_grenade    24802.0   14881.200000\n1                                   12_70_flechette    24842.0   11924.160000\n8                                        Capacitors    18979.0    9183.387097\n9                          greenbat_lithium_battery    43569.0    8713.800000\n10                                 Gunpowder_\"Kite\"    11594.0    7816.179775\n4                              9x18_mm_pm_rg028_gzh    12480.0    7269.902913\n6                                       9x19_mm_rip    34972.0    6812.727273\n12                                           Magnet     4077.0    5688.837209\n2                                         Powercord     2760.0    4731.428571\n13                                          .366_ap    24400.0    3485.714286\n7                                             Wires     5092.0    2589.152542\n19                            Printed_circuit_board      461.0     838.181818\n20                              bulbex_cable_cutter     -751.0    -108.317308\n15                                      NIXXOR_lens    -2177.0    -865.033113\n11                                   9x18_mm_pm_pbm    -4400.0   -1133.047210\n21                                     7.62x54r_snb   -17200.0   -1717.138103\n16                                Gunpowder_\"Eagle\"    -5636.0   -3486.185567\n27                                    5.45x39_mm_pp   -25280.0   -4582.477341\n22                        akm_7.62x39_assault_rifle    -6540.0   -4616.470588\n18                     ak-74m_5.45x39_assault_rifle    -6563.0   -4744.337349\n23                                    7.62x39_mm_bp   -86626.0   -5197.560000\n26                                     Gas_analyzer  -106674.0   -6268.795299\n24                      12_70_hp_slug_superformance   -26039.0   -6705.321888\n28                                5.56x45_mm_m856a1   -87400.0   -7010.695187\n25                          5.45x39_mm_7n39_igolnik  -127416.0   -7487.717924\n5                      ak-74n_5.45x39_assault_rifle   -10423.0   -7720.740741\n37                               rgd-5_hand_grenade   -42827.0   -8424.983607\n33                                     9x39_mm_sp-6   -77860.0   -8447.739602\n36                                       .45_acp_ap   -63000.0   -8475.336323\n35                                   9x19_mm_ap_6.3   -72700.0   -9183.157895\n39                                     Weapon_parts    -7957.0   -9361.176471\n32                               OFZ_30x160mm_shell  -102195.0   -9433.384615\n17                     12_70_8.5_mm_magnum_buckshot   -14795.0   -9754.945055\n0                                  Gunpowder_\"Hawk\"    -6092.0  -10443.428571\n14                                 Gunpowder_\"Hawk\"   -19645.0  -10524.107143\n40                                  5.56x45_mm_m995  -173151.0  -10833.222106\n34                                     Weapon_parts   -14914.0  -11472.307692\n31                            Geiger-Muller_counter   -19133.0  -12615.164835\n38                                   7.62x51_mm_m61  -222557.0  -13380.180361\n41                             Rechargeable_battery   -18690.0  -15361.643836\n29                                  9x39_mm_7n9_spp  -170099.0  -16199.904762\n43                                 12_70_ap-20_slug   -87840.0  -18755.871886\n42                            Printed_circuit_board   -15317.0  -19146.250000\n30                                5.56x45mm_warmage   -97466.0  -20664.169611\n45                                     9x19_mm_7n31  -285419.0  -23851.169916\n44                           Military_circuit_board   -66189.0  -29201.029412\n47                                     23x75mm_star  -139990.0  -30543.272727\n50  FLIR_RS-32_2.25-9x_35mm_60Hz_thermal_riflescope  -339466.0  -37999.925373\n48                                    T-Shaped_Plug   -38143.0  -40867.500000\n49                               zarya_stun_grenade   -60725.0  -47318.181818\n51                                       Spark_plug   -95233.0  -49258.448276\n52                                   Electric_motor   -68435.0  -51326.250000\n46                                      car_battery  -142464.0  -51493.012048\n53                                    Broken_GPhone  -109411.0  -65646.600000\n54                                  9x39_mm_7n12_bp -1240958.0 -134642.820976\n55                                       Broken_LCD   -83445.0 -227577.272727",
      "text/html": "<div>\n<style scoped>\n    .dataframe tbody tr th:only-of-type {\n        vertical-align: middle;\n    }\n\n    .dataframe tbody tr th {\n        vertical-align: top;\n    }\n\n    .dataframe thead th {\n        text-align: right;\n    }\n</style>\n<table border=\"1\" class=\"dataframe\">\n  <thead>\n    <tr style=\"text-align: right;\">\n      <th></th>\n      <th>Name</th>\n      <th>income</th>\n      <th>income/h</th>\n    </tr>\n  </thead>\n  <tbody>\n    <tr>\n      <th>3</th>\n      <td>vog-25_khattabka_grenade</td>\n      <td>24802.0</td>\n      <td>14881.200000</td>\n    </tr>\n    <tr>\n      <th>1</th>\n      <td>12_70_flechette</td>\n      <td>24842.0</td>\n      <td>11924.160000</td>\n    </tr>\n    <tr>\n      <th>8</th>\n      <td>Capacitors</td>\n      <td>18979.0</td>\n      <td>9183.387097</td>\n    </tr>\n    <tr>\n      <th>9</th>\n      <td>greenbat_lithium_battery</td>\n      <td>43569.0</td>\n      <td>8713.800000</td>\n    </tr>\n    <tr>\n      <th>10</th>\n      <td>Gunpowder_\"Kite\"</td>\n      <td>11594.0</td>\n      <td>7816.179775</td>\n    </tr>\n    <tr>\n      <th>4</th>\n      <td>9x18_mm_pm_rg028_gzh</td>\n      <td>12480.0</td>\n      <td>7269.902913</td>\n    </tr>\n    <tr>\n      <th>6</th>\n      <td>9x19_mm_rip</td>\n      <td>34972.0</td>\n      <td>6812.727273</td>\n    </tr>\n    <tr>\n      <th>12</th>\n      <td>Magnet</td>\n      <td>4077.0</td>\n      <td>5688.837209</td>\n    </tr>\n    <tr>\n      <th>2</th>\n      <td>Powercord</td>\n      <td>2760.0</td>\n      <td>4731.428571</td>\n    </tr>\n    <tr>\n      <th>13</th>\n      <td>.366_ap</td>\n      <td>24400.0</td>\n      <td>3485.714286</td>\n    </tr>\n    <tr>\n      <th>7</th>\n      <td>Wires</td>\n      <td>5092.0</td>\n      <td>2589.152542</td>\n    </tr>\n    <tr>\n      <th>19</th>\n      <td>Printed_circuit_board</td>\n      <td>461.0</td>\n      <td>838.181818</td>\n    </tr>\n    <tr>\n      <th>20</th>\n      <td>bulbex_cable_cutter</td>\n      <td>-751.0</td>\n      <td>-108.317308</td>\n    </tr>\n    <tr>\n      <th>15</th>\n      <td>NIXXOR_lens</td>\n      <td>-2177.0</td>\n      <td>-865.033113</td>\n    </tr>\n    <tr>\n      <th>11</th>\n      <td>9x18_mm_pm_pbm</td>\n      <td>-4400.0</td>\n      <td>-1133.047210</td>\n    </tr>\n    <tr>\n      <th>21</th>\n      <td>7.62x54r_snb</td>\n      <td>-17200.0</td>\n      <td>-1717.138103</td>\n    </tr>\n    <tr>\n      <th>16</th>\n      <td>Gunpowder_\"Eagle\"</td>\n      <td>-5636.0</td>\n      <td>-3486.185567</td>\n    </tr>\n    <tr>\n      <th>27</th>\n      <td>5.45x39_mm_pp</td>\n      <td>-25280.0</td>\n      <td>-4582.477341</td>\n    </tr>\n    <tr>\n      <th>22</th>\n      <td>akm_7.62x39_assault_rifle</td>\n      <td>-6540.0</td>\n      <td>-4616.470588</td>\n    </tr>\n    <tr>\n      <th>18</th>\n      <td>ak-74m_5.45x39_assault_rifle</td>\n      <td>-6563.0</td>\n      <td>-4744.337349</td>\n    </tr>\n    <tr>\n      <th>23</th>\n      <td>7.62x39_mm_bp</td>\n      <td>-86626.0</td>\n      <td>-5197.560000</td>\n    </tr>\n    <tr>\n      <th>26</th>\n      <td>Gas_analyzer</td>\n      <td>-106674.0</td>\n      <td>-6268.795299</td>\n    </tr>\n    <tr>\n      <th>24</th>\n      <td>12_70_hp_slug_superformance</td>\n      <td>-26039.0</td>\n      <td>-6705.321888</td>\n    </tr>\n    <tr>\n      <th>28</th>\n      <td>5.56x45_mm_m856a1</td>\n      <td>-87400.0</td>\n      <td>-7010.695187</td>\n    </tr>\n    <tr>\n      <th>25</th>\n      <td>5.45x39_mm_7n39_igolnik</td>\n      <td>-127416.0</td>\n      <td>-7487.717924</td>\n    </tr>\n    <tr>\n      <th>5</th>\n      <td>ak-74n_5.45x39_assault_rifle</td>\n      <td>-10423.0</td>\n      <td>-7720.740741</td>\n    </tr>\n    <tr>\n      <th>37</th>\n      <td>rgd-5_hand_grenade</td>\n      <td>-42827.0</td>\n      <td>-8424.983607</td>\n    </tr>\n    <tr>\n      <th>33</th>\n      <td>9x39_mm_sp-6</td>\n      <td>-77860.0</td>\n      <td>-8447.739602</td>\n    </tr>\n    <tr>\n      <th>36</th>\n      <td>.45_acp_ap</td>\n      <td>-63000.0</td>\n      <td>-8475.336323</td>\n    </tr>\n    <tr>\n      <th>35</th>\n      <td>9x19_mm_ap_6.3</td>\n      <td>-72700.0</td>\n      <td>-9183.157895</td>\n    </tr>\n    <tr>\n      <th>39</th>\n      <td>Weapon_parts</td>\n      <td>-7957.0</td>\n      <td>-9361.176471</td>\n    </tr>\n    <tr>\n      <th>32</th>\n      <td>OFZ_30x160mm_shell</td>\n      <td>-102195.0</td>\n      <td>-9433.384615</td>\n    </tr>\n    <tr>\n      <th>17</th>\n      <td>12_70_8.5_mm_magnum_buckshot</td>\n      <td>-14795.0</td>\n      <td>-9754.945055</td>\n    </tr>\n    <tr>\n      <th>0</th>\n      <td>Gunpowder_\"Hawk\"</td>\n      <td>-6092.0</td>\n      <td>-10443.428571</td>\n    </tr>\n    <tr>\n      <th>14</th>\n      <td>Gunpowder_\"Hawk\"</td>\n      <td>-19645.0</td>\n      <td>-10524.107143</td>\n    </tr>\n    <tr>\n      <th>40</th>\n      <td>5.56x45_mm_m995</td>\n      <td>-173151.0</td>\n      <td>-10833.222106</td>\n    </tr>\n    <tr>\n      <th>34</th>\n      <td>Weapon_parts</td>\n      <td>-14914.0</td>\n      <td>-11472.307692</td>\n    </tr>\n    <tr>\n      <th>31</th>\n      <td>Geiger-Muller_counter</td>\n      <td>-19133.0</td>\n      <td>-12615.164835</td>\n    </tr>\n    <tr>\n      <th>38</th>\n      <td>7.62x51_mm_m61</td>\n      <td>-222557.0</td>\n      <td>-13380.180361</td>\n    </tr>\n    <tr>\n      <th>41</th>\n      <td>Rechargeable_battery</td>\n      <td>-18690.0</td>\n      <td>-15361.643836</td>\n    </tr>\n    <tr>\n      <th>29</th>\n      <td>9x39_mm_7n9_spp</td>\n      <td>-170099.0</td>\n      <td>-16199.904762</td>\n    </tr>\n    <tr>\n      <th>43</th>\n      <td>12_70_ap-20_slug</td>\n      <td>-87840.0</td>\n      <td>-18755.871886</td>\n    </tr>\n    <tr>\n      <th>42</th>\n      <td>Printed_circuit_board</td>\n      <td>-15317.0</td>\n      <td>-19146.250000</td>\n    </tr>\n    <tr>\n      <th>30</th>\n      <td>5.56x45mm_warmage</td>\n      <td>-97466.0</td>\n      <td>-20664.169611</td>\n    </tr>\n    <tr>\n      <th>45</th>\n      <td>9x19_mm_7n31</td>\n      <td>-285419.0</td>\n      <td>-23851.169916</td>\n    </tr>\n    <tr>\n      <th>44</th>\n      <td>Military_circuit_board</td>\n      <td>-66189.0</td>\n      <td>-29201.029412</td>\n    </tr>\n    <tr>\n      <th>47</th>\n      <td>23x75mm_star</td>\n      <td>-139990.0</td>\n      <td>-30543.272727</td>\n    </tr>\n    <tr>\n      <th>50</th>\n      <td>FLIR_RS-32_2.25-9x_35mm_60Hz_thermal_riflescope</td>\n      <td>-339466.0</td>\n      <td>-37999.925373</td>\n    </tr>\n    <tr>\n      <th>48</th>\n      <td>T-Shaped_Plug</td>\n      <td>-38143.0</td>\n      <td>-40867.500000</td>\n    </tr>\n    <tr>\n      <th>49</th>\n      <td>zarya_stun_grenade</td>\n      <td>-60725.0</td>\n      <td>-47318.181818</td>\n    </tr>\n    <tr>\n      <th>51</th>\n      <td>Spark_plug</td>\n      <td>-95233.0</td>\n      <td>-49258.448276</td>\n    </tr>\n    <tr>\n      <th>52</th>\n      <td>Electric_motor</td>\n      <td>-68435.0</td>\n      <td>-51326.250000</td>\n    </tr>\n    <tr>\n      <th>46</th>\n      <td>car_battery</td>\n      <td>-142464.0</td>\n      <td>-51493.012048</td>\n    </tr>\n    <tr>\n      <th>53</th>\n      <td>Broken_GPhone</td>\n      <td>-109411.0</td>\n      <td>-65646.600000</td>\n    </tr>\n    <tr>\n      <th>54</th>\n      <td>9x39_mm_7n12_bp</td>\n      <td>-1240958.0</td>\n      <td>-134642.820976</td>\n    </tr>\n    <tr>\n      <th>55</th>\n      <td>Broken_LCD</td>\n      <td>-83445.0</td>\n      <td>-227577.272727</td>\n    </tr>\n  </tbody>\n</table>\n</div>"
     },
     "execution_count": 45,
     "metadata": {},
     "output_type": "execute_result"
    }
   ],
   "source": [
    "df = get_df(crafts)\n",
    "df.sort_values(by=['income/h'], ascending=False)"
   ],
   "metadata": {
    "collapsed": false,
    "pycharm": {
     "name": "#%%\n"
    }
   }
  },
  {
   "cell_type": "code",
   "execution_count": null,
   "outputs": [],
   "source": [],
   "metadata": {
    "collapsed": false,
    "pycharm": {
     "name": "#%%\n"
    }
   }
  }
 ],
 "metadata": {
  "kernelspec": {
   "display_name": "Python 3",
   "language": "python",
   "name": "python3"
  },
  "language_info": {
   "codemirror_mode": {
    "name": "ipython",
    "version": 2
   },
   "file_extension": ".py",
   "mimetype": "text/x-python",
   "name": "python",
   "nbconvert_exporter": "python",
   "pygments_lexer": "ipython2",
   "version": "2.7.6"
  }
 },
 "nbformat": 4,
 "nbformat_minor": 0
}