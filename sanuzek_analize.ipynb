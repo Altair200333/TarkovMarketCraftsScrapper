{
 "cells": [
  {
   "cell_type": "code",
   "execution_count": 1,
   "metadata": {
    "collapsed": true
   },
   "outputs": [],
   "source": [
    "% load_ext autoreload\n",
    "% autoreload 2"
   ]
  },
  {
   "cell_type": "code",
   "execution_count": 9,
   "outputs": [],
   "source": [
    "from selenium import webdriver\n",
    "\n",
    "import pandas as pd\n",
    "from utils import *\n",
    "import numpy as np\n",
    "import requests\n",
    "from bs4 import BeautifulSoup"
   ],
   "metadata": {
    "collapsed": false,
    "pycharm": {
     "name": "#%%\n"
    }
   }
  },
  {
   "cell_type": "code",
   "execution_count": 3,
   "outputs": [
    {
     "name": "stderr",
     "output_type": "stream",
     "text": [
      "C:\\Users\\Neo\\AppData\\Local\\Temp/ipykernel_28500/2998009366.py:5: DeprecationWarning: executable_path has been deprecated, please pass in a Service object\n",
      "  driver = webdriver.Chrome(\"C:\\Projects\\chromedriver.exe\", chrome_options=options)\n",
      "C:\\Users\\Neo\\AppData\\Local\\Temp/ipykernel_28500/2998009366.py:5: DeprecationWarning: use options instead of chrome_options\n",
      "  driver = webdriver.Chrome(\"C:\\Projects\\chromedriver.exe\", chrome_options=options)\n"
     ]
    }
   ],
   "source": [
    "options = webdriver.ChromeOptions()\n",
    "\n",
    "options.add_argument('--ignore-certificate-errors')\n",
    "options.add_argument('--incognito')\n",
    "options.add_argument('--headless')\n",
    "\n",
    "driver = webdriver.Chrome(\"C:\\Projects\\chromedriver.exe\", chrome_options=options)"
   ],
   "metadata": {
    "collapsed": false,
    "pycharm": {
     "name": "#%%\n"
    }
   }
  },
  {
   "cell_type": "code",
   "execution_count": 4,
   "outputs": [],
   "source": [
    "get_full_page(driver, \"Санузел\")"
   ],
   "metadata": {
    "collapsed": false,
    "pycharm": {
     "name": "#%%\n"
    }
   }
  },
  {
   "cell_type": "code",
   "execution_count": 5,
   "outputs": [
    {
     "name": "stdout",
     "output_type": "stream",
     "text": [
      "33\n"
     ]
    }
   ],
   "source": [
    "soup = BeautifulSoup(driver.page_source, \"html.parser\")\n",
    "recipes = soup.find_all(\"div\", {\"class\": \"row recipe\"})\n",
    "print(len(recipes))"
   ],
   "metadata": {
    "collapsed": false,
    "pycharm": {
     "name": "#%%\n"
    }
   }
  },
  {
   "cell_type": "code",
   "execution_count": 6,
   "outputs": [],
   "source": [
    "crafts = []\n",
    "for i in range(len(recipes)):\n",
    "    rec = get_recipe(recipes[i])\n",
    "    crafts.append(rec)"
   ],
   "metadata": {
    "collapsed": false,
    "pycharm": {
     "name": "#%%\n"
    }
   }
  },
  {
   "cell_type": "code",
   "execution_count": 7,
   "outputs": [
    {
     "data": {
      "text/plain": "33"
     },
     "execution_count": 7,
     "metadata": {},
     "output_type": "execute_result"
    }
   ],
   "source": [
    "len(crafts)"
   ],
   "metadata": {
    "collapsed": false,
    "pycharm": {
     "name": "#%%\n"
    }
   }
  },
  {
   "cell_type": "code",
   "execution_count": 32,
   "outputs": [],
   "source": [
    "def link_name(link):\n",
    "    return link.split('/')[-1]\n",
    "\n",
    "\n",
    "def get_df(crafts):\n",
    "    incomes = []\n",
    "    incomes_h = []\n",
    "    names = []\n",
    "\n",
    "    for craft in crafts:\n",
    "        components_price = 0\n",
    "        for item in craft.items:\n",
    "            components_price += item.price * item.count\n",
    "\n",
    "        sell_price = (craft.result.price - craft.result.fee) * craft.result.count\n",
    "        income = sell_price - components_price\n",
    "        income_h = income / craft.time\n",
    "        incomes.append(income)\n",
    "        incomes_h.append(income_h)\n",
    "        names.append(link_name(craft.result.link))\n",
    "\n",
    "        #print(income, income_h, link_name(craft.result.link),  craft.result.count)\n",
    "\n",
    "    data = {'Name': names, 'income': incomes, 'income/h': incomes_h}\n",
    "\n",
    "    df = pd.DataFrame(data)\n",
    "    return df"
   ],
   "metadata": {
    "collapsed": false,
    "pycharm": {
     "name": "#%%\n"
    }
   }
  },
  {
   "cell_type": "code",
   "execution_count": 33,
   "outputs": [
    {
     "data": {
      "text/plain": "                                                 Name    income       income/h\n0                                     Schaman_shampoo    7016.0   12027.428571\n5                                           Ox_bleach    6655.0   10507.894737\n7                                     aseptic_bandage    2579.0    4991.612903\n4                                       Scav_Backpack    3392.0    3700.363636\n3                            polyamide_fabric_cordura    1991.0    2488.750000\n8                                        grenade_case  -42923.0   -2575.380000\n9                                  lucky_scav_junkbox  -39157.0   -4553.139535\n12                                       Water_filter  -51141.0   -5174.468803\n13                                      magazine_case  -28620.0   -5880.821918\n17                                        WD-40_100ml  -27190.0  -10876.000000\n16                             fp-100_filter_absorber  -28688.0  -11033.846154\n15                                    corrugated_hose  -38805.0  -11583.582090\n18                                  LZSh_light_helmet  -17809.0  -12873.975904\n22                                Immobilizing_splint  -12359.0  -13991.320755\n2                                        army_bandage   -3751.0  -14066.250000\n1                                       ripstop_cloth   -9340.0  -15566.666667\n11                                 aramid_fiber_cloth   -8742.0  -15894.545455\n21                                           Paracord  -70502.0  -16395.813953\n6                                 BlackRock_chest_rig  -17466.0  -17466.000000\n20                           Pilgrim_tourist_backpack  -49807.0  -18333.865031\n23                                  kektape_duct_tape  -26820.0  -20115.000000\n25         Velocity_Systems_Multi-Purpose_Patrol_Vest  -52681.0  -24314.307692\n14  60-round_6l31_5.45x39_magazine_for_ak-74_and_c...  -34046.0  -24611.566265\n24                               6SH118_raid_backpack -146900.0  -27892.405063\n29                                       Toilet_paper  -17498.0  -40380.000000\n10                                       fleece_cloth  -29259.0  -40826.511628\n27                                    PACA_Soft_Armor  -57920.0  -47605.479452\n19                               splav_tarzan_m22_rig  -36619.0  -47763.913043\n26                                         Clin_wiper  -31940.0  -47910.000000\n28                                Module-3M_bodyarmor  -50108.0  -55675.555556\n30                           polyamide_fabric_cordura  -46469.0  -79661.142857\n31                            Expeditionary_fuel_tank -280934.0 -271871.612903\n32                            Air_filter_for_gas_mask  -16234.0 -487020.000000",
      "text/html": "<div>\n<style scoped>\n    .dataframe tbody tr th:only-of-type {\n        vertical-align: middle;\n    }\n\n    .dataframe tbody tr th {\n        vertical-align: top;\n    }\n\n    .dataframe thead th {\n        text-align: right;\n    }\n</style>\n<table border=\"1\" class=\"dataframe\">\n  <thead>\n    <tr style=\"text-align: right;\">\n      <th></th>\n      <th>Name</th>\n      <th>income</th>\n      <th>income/h</th>\n    </tr>\n  </thead>\n  <tbody>\n    <tr>\n      <th>0</th>\n      <td>Schaman_shampoo</td>\n      <td>7016.0</td>\n      <td>12027.428571</td>\n    </tr>\n    <tr>\n      <th>5</th>\n      <td>Ox_bleach</td>\n      <td>6655.0</td>\n      <td>10507.894737</td>\n    </tr>\n    <tr>\n      <th>7</th>\n      <td>aseptic_bandage</td>\n      <td>2579.0</td>\n      <td>4991.612903</td>\n    </tr>\n    <tr>\n      <th>4</th>\n      <td>Scav_Backpack</td>\n      <td>3392.0</td>\n      <td>3700.363636</td>\n    </tr>\n    <tr>\n      <th>3</th>\n      <td>polyamide_fabric_cordura</td>\n      <td>1991.0</td>\n      <td>2488.750000</td>\n    </tr>\n    <tr>\n      <th>8</th>\n      <td>grenade_case</td>\n      <td>-42923.0</td>\n      <td>-2575.380000</td>\n    </tr>\n    <tr>\n      <th>9</th>\n      <td>lucky_scav_junkbox</td>\n      <td>-39157.0</td>\n      <td>-4553.139535</td>\n    </tr>\n    <tr>\n      <th>12</th>\n      <td>Water_filter</td>\n      <td>-51141.0</td>\n      <td>-5174.468803</td>\n    </tr>\n    <tr>\n      <th>13</th>\n      <td>magazine_case</td>\n      <td>-28620.0</td>\n      <td>-5880.821918</td>\n    </tr>\n    <tr>\n      <th>17</th>\n      <td>WD-40_100ml</td>\n      <td>-27190.0</td>\n      <td>-10876.000000</td>\n    </tr>\n    <tr>\n      <th>16</th>\n      <td>fp-100_filter_absorber</td>\n      <td>-28688.0</td>\n      <td>-11033.846154</td>\n    </tr>\n    <tr>\n      <th>15</th>\n      <td>corrugated_hose</td>\n      <td>-38805.0</td>\n      <td>-11583.582090</td>\n    </tr>\n    <tr>\n      <th>18</th>\n      <td>LZSh_light_helmet</td>\n      <td>-17809.0</td>\n      <td>-12873.975904</td>\n    </tr>\n    <tr>\n      <th>22</th>\n      <td>Immobilizing_splint</td>\n      <td>-12359.0</td>\n      <td>-13991.320755</td>\n    </tr>\n    <tr>\n      <th>2</th>\n      <td>army_bandage</td>\n      <td>-3751.0</td>\n      <td>-14066.250000</td>\n    </tr>\n    <tr>\n      <th>1</th>\n      <td>ripstop_cloth</td>\n      <td>-9340.0</td>\n      <td>-15566.666667</td>\n    </tr>\n    <tr>\n      <th>11</th>\n      <td>aramid_fiber_cloth</td>\n      <td>-8742.0</td>\n      <td>-15894.545455</td>\n    </tr>\n    <tr>\n      <th>21</th>\n      <td>Paracord</td>\n      <td>-70502.0</td>\n      <td>-16395.813953</td>\n    </tr>\n    <tr>\n      <th>6</th>\n      <td>BlackRock_chest_rig</td>\n      <td>-17466.0</td>\n      <td>-17466.000000</td>\n    </tr>\n    <tr>\n      <th>20</th>\n      <td>Pilgrim_tourist_backpack</td>\n      <td>-49807.0</td>\n      <td>-18333.865031</td>\n    </tr>\n    <tr>\n      <th>23</th>\n      <td>kektape_duct_tape</td>\n      <td>-26820.0</td>\n      <td>-20115.000000</td>\n    </tr>\n    <tr>\n      <th>25</th>\n      <td>Velocity_Systems_Multi-Purpose_Patrol_Vest</td>\n      <td>-52681.0</td>\n      <td>-24314.307692</td>\n    </tr>\n    <tr>\n      <th>14</th>\n      <td>60-round_6l31_5.45x39_magazine_for_ak-74_and_c...</td>\n      <td>-34046.0</td>\n      <td>-24611.566265</td>\n    </tr>\n    <tr>\n      <th>24</th>\n      <td>6SH118_raid_backpack</td>\n      <td>-146900.0</td>\n      <td>-27892.405063</td>\n    </tr>\n    <tr>\n      <th>29</th>\n      <td>Toilet_paper</td>\n      <td>-17498.0</td>\n      <td>-40380.000000</td>\n    </tr>\n    <tr>\n      <th>10</th>\n      <td>fleece_cloth</td>\n      <td>-29259.0</td>\n      <td>-40826.511628</td>\n    </tr>\n    <tr>\n      <th>27</th>\n      <td>PACA_Soft_Armor</td>\n      <td>-57920.0</td>\n      <td>-47605.479452</td>\n    </tr>\n    <tr>\n      <th>19</th>\n      <td>splav_tarzan_m22_rig</td>\n      <td>-36619.0</td>\n      <td>-47763.913043</td>\n    </tr>\n    <tr>\n      <th>26</th>\n      <td>Clin_wiper</td>\n      <td>-31940.0</td>\n      <td>-47910.000000</td>\n    </tr>\n    <tr>\n      <th>28</th>\n      <td>Module-3M_bodyarmor</td>\n      <td>-50108.0</td>\n      <td>-55675.555556</td>\n    </tr>\n    <tr>\n      <th>30</th>\n      <td>polyamide_fabric_cordura</td>\n      <td>-46469.0</td>\n      <td>-79661.142857</td>\n    </tr>\n    <tr>\n      <th>31</th>\n      <td>Expeditionary_fuel_tank</td>\n      <td>-280934.0</td>\n      <td>-271871.612903</td>\n    </tr>\n    <tr>\n      <th>32</th>\n      <td>Air_filter_for_gas_mask</td>\n      <td>-16234.0</td>\n      <td>-487020.000000</td>\n    </tr>\n  </tbody>\n</table>\n</div>"
     },
     "execution_count": 33,
     "metadata": {},
     "output_type": "execute_result"
    }
   ],
   "source": [
    "df = get_df(crafts)\n",
    "df.sort_values(by=['income/h'], ascending=False)"
   ],
   "metadata": {
    "collapsed": false,
    "pycharm": {
     "name": "#%%\n"
    }
   }
  },
  {
   "cell_type": "code",
   "execution_count": null,
   "outputs": [],
   "source": [],
   "metadata": {
    "collapsed": false,
    "pycharm": {
     "name": "#%%\n"
    }
   }
  }
 ],
 "metadata": {
  "kernelspec": {
   "display_name": "Python 3",
   "language": "python",
   "name": "python3"
  },
  "language_info": {
   "codemirror_mode": {
    "name": "ipython",
    "version": 2
   },
   "file_extension": ".py",
   "mimetype": "text/x-python",
   "name": "python",
   "nbconvert_exporter": "python",
   "pygments_lexer": "ipython2",
   "version": "2.7.6"
  }
 },
 "nbformat": 4,
 "nbformat_minor": 0
}